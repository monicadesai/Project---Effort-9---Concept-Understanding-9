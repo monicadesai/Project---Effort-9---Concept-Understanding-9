{
  "nbformat": 4,
  "nbformat_minor": 0,
  "metadata": {
    "colab": {
      "name": "Project2_in_Deep_Learning_Music_Genre_Identification.ipynb",
      "provenance": [],
      "collapsed_sections": [],
      "authorship_tag": "ABX9TyMtQtS07xFlmoctdf9KUtjF",
      "include_colab_link": true
    },
    "kernelspec": {
      "name": "python3",
      "display_name": "Python 3"
    }
  },
  "cells": [
    {
      "cell_type": "markdown",
      "metadata": {
        "id": "view-in-github",
        "colab_type": "text"
      },
      "source": [
        "<a href=\"https://colab.research.google.com/github/monicadesai/Project---Effort-9---Concept-Understanding-9/blob/master/Project2_in_Deep_Learning_Music_Genre_Identification.ipynb\" target=\"_parent\"><img src=\"https://colab.research.google.com/assets/colab-badge.svg\" alt=\"Open In Colab\"/></a>"
      ]
    },
    {
      "cell_type": "code",
      "metadata": {
        "id": "TEgRTvaPIHvv"
      },
      "source": [
        "%tensorflow_version 2.x"
      ],
      "execution_count": null,
      "outputs": []
    },
    {
      "cell_type": "code",
      "metadata": {
        "id": "08NcqQxaPtzU"
      },
      "source": [
        "# Aim: Given audio files for songs, identify which genre they fall in."
      ],
      "execution_count": null,
      "outputs": []
    },
    {
      "cell_type": "code",
      "metadata": {
        "id": "xoSG2GgHIM8b",
        "outputId": "51e0b94f-6bb4-4e9b-cb8c-10021b921875",
        "colab": {
          "base_uri": "https://localhost:8080/",
          "height": 70
        }
      },
      "source": [
        "# Importing Libraries\n",
        "\n",
        "import numpy as np\n",
        "import pandas as pd\n",
        "import matplotlib.pyplot as plt\n",
        "%matplotlib inline\n",
        "import seaborn as sns\n",
        "from sklearn.model_selection import train_test_split\n",
        "from sklearn.preprocessing import LabelEncoder\n",
        "import warnings\n",
        "warnings.filterwarnings(\"ignore\")"
      ],
      "execution_count": null,
      "outputs": [
        {
          "output_type": "stream",
          "text": [
            "/usr/local/lib/python3.6/dist-packages/statsmodels/tools/_testing.py:19: FutureWarning: pandas.util.testing is deprecated. Use the functions in the public API at pandas.testing instead.\n",
            "  import pandas.util.testing as tm\n"
          ],
          "name": "stderr"
        }
      ]
    },
    {
      "cell_type": "code",
      "metadata": {
        "id": "62j9PjWjIM_L",
        "outputId": "0e1b4915-e95b-40ce-bfd1-852608e8513c",
        "colab": {
          "base_uri": "https://localhost:8080/",
          "height": 104
        }
      },
      "source": [
        "!pip install path"
      ],
      "execution_count": null,
      "outputs": [
        {
          "output_type": "stream",
          "text": [
            "Collecting path\n",
            "  Downloading https://files.pythonhosted.org/packages/cb/81/b9090d24e60369fd9413b92fcd87e13a37bf43dad3427d35e09915f788ac/path-15.0.0-py3-none-any.whl\n",
            "Installing collected packages: path\n",
            "Successfully installed path-15.0.0\n"
          ],
          "name": "stdout"
        }
      ]
    },
    {
      "cell_type": "code",
      "metadata": {
        "id": "_Nq6WsFWINBu",
        "outputId": "4233d27f-0c8c-4e7b-aceb-39f903a850b8",
        "colab": {
          "base_uri": "https://localhost:8080/",
          "height": 440
        }
      },
      "source": [
        "#Downloading Data\n",
        "!wget https://www.dropbox.com/s/4jw31k5mlzcmgis/genres.tar.gz?dl=0"
      ],
      "execution_count": null,
      "outputs": [
        {
          "output_type": "stream",
          "text": [
            "--2020-08-14 13:27:44--  https://www.dropbox.com/s/4jw31k5mlzcmgis/genres.tar.gz?dl=0\n",
            "Resolving www.dropbox.com (www.dropbox.com)... 162.125.65.1, 2620:100:6021:1::a27d:4101\n",
            "Connecting to www.dropbox.com (www.dropbox.com)|162.125.65.1|:443... connected.\n",
            "HTTP request sent, awaiting response... 301 Moved Permanently\n",
            "Location: /s/raw/4jw31k5mlzcmgis/genres.tar.gz [following]\n",
            "--2020-08-14 13:27:45--  https://www.dropbox.com/s/raw/4jw31k5mlzcmgis/genres.tar.gz\n",
            "Reusing existing connection to www.dropbox.com:443.\n",
            "HTTP request sent, awaiting response... 302 Found\n",
            "Location: https://ucc67453e4d9833d68bddf42f69b.dl.dropboxusercontent.com/cd/0/inline/A9d77R9JxO7VOswL-JNRFbX2MMy1ii1UYXWYIC7zzoVj_Az4CJTxcc6fUrBY0Exly2uTCkU3vg437BEiu5Da6j8xQgiJr9gKFclqTwK6Jmr8oQ/file# [following]\n",
            "--2020-08-14 13:27:45--  https://ucc67453e4d9833d68bddf42f69b.dl.dropboxusercontent.com/cd/0/inline/A9d77R9JxO7VOswL-JNRFbX2MMy1ii1UYXWYIC7zzoVj_Az4CJTxcc6fUrBY0Exly2uTCkU3vg437BEiu5Da6j8xQgiJr9gKFclqTwK6Jmr8oQ/file\n",
            "Resolving ucc67453e4d9833d68bddf42f69b.dl.dropboxusercontent.com (ucc67453e4d9833d68bddf42f69b.dl.dropboxusercontent.com)... 162.125.65.15, 2620:100:6021:15::a27d:410f\n",
            "Connecting to ucc67453e4d9833d68bddf42f69b.dl.dropboxusercontent.com (ucc67453e4d9833d68bddf42f69b.dl.dropboxusercontent.com)|162.125.65.15|:443... connected.\n",
            "HTTP request sent, awaiting response... 302 Found\n",
            "Location: /cd/0/inline2/A9exFh-3lhJDJ0JVTW3aVTthSAmoLmfiQ7wbsK55TKzowK83n4piLuUiL9-8DDEOd26fPX6-en5erPiziZBKg6KMJBft2qBnQbDVvoyYrd0Rxrn4kCDRZ8piuiOnXyELJOkUOxsVfPm7EkG-xrpCwz6cM4Q41VZpoHQDXog-XyPz8fyLFo2IEF7G1BnRuMKXBEDigZQFkTHpkYrGAbM5dLWt21HXwnSxhR13buUH2epCRCkYMsOA9L7YrFfuVBKWF0-Emq1tGTbdKZmKir2w-vn-SW2z6FlqzlhRvxM-5q7rrW0cajgD1PnPgcDXb7RxzFdhvxVl4h2aTfmzoD--omad/file [following]\n",
            "--2020-08-14 13:27:46--  https://ucc67453e4d9833d68bddf42f69b.dl.dropboxusercontent.com/cd/0/inline2/A9exFh-3lhJDJ0JVTW3aVTthSAmoLmfiQ7wbsK55TKzowK83n4piLuUiL9-8DDEOd26fPX6-en5erPiziZBKg6KMJBft2qBnQbDVvoyYrd0Rxrn4kCDRZ8piuiOnXyELJOkUOxsVfPm7EkG-xrpCwz6cM4Q41VZpoHQDXog-XyPz8fyLFo2IEF7G1BnRuMKXBEDigZQFkTHpkYrGAbM5dLWt21HXwnSxhR13buUH2epCRCkYMsOA9L7YrFfuVBKWF0-Emq1tGTbdKZmKir2w-vn-SW2z6FlqzlhRvxM-5q7rrW0cajgD1PnPgcDXb7RxzFdhvxVl4h2aTfmzoD--omad/file\n",
            "Reusing existing connection to ucc67453e4d9833d68bddf42f69b.dl.dropboxusercontent.com:443.\n",
            "HTTP request sent, awaiting response... 200 OK\n",
            "Length: 1225573614 (1.1G) [application/octet-stream]\n",
            "Saving to: ‘genres.tar.gz?dl=0’\n",
            "\n",
            "genres.tar.gz?dl=0  100%[===================>]   1.14G  17.0MB/s    in 71s     \n",
            "\n",
            "2020-08-14 13:28:58 (16.5 MB/s) - ‘genres.tar.gz?dl=0’ saved [1225573614/1225573614]\n",
            "\n"
          ],
          "name": "stdout"
        }
      ]
    },
    {
      "cell_type": "code",
      "metadata": {
        "id": "EDvStWM_INEr"
      },
      "source": [
        "import tarfile"
      ],
      "execution_count": null,
      "outputs": []
    },
    {
      "cell_type": "code",
      "metadata": {
        "id": "4hPhgZISINHh"
      },
      "source": [
        "my_tar = tarfile.open(\"genres.tar.gz?dl=0\")\n",
        "my_tar.extractall('./fold1') # specify which folder to extract to\n",
        "my_tar.close()"
      ],
      "execution_count": null,
      "outputs": []
    },
    {
      "cell_type": "code",
      "metadata": {
        "id": "ysut0uXRINKh"
      },
      "source": [
        "!rm genres.tar.gz?dl=0"
      ],
      "execution_count": null,
      "outputs": []
    },
    {
      "cell_type": "code",
      "metadata": {
        "id": "LQ0q1IznIjtt"
      },
      "source": [
        "from tensorflow.keras import layers\n",
        "from tensorflow.keras import models\n",
        "from tensorflow.keras.layers import LeakyReLU\n",
        "from tensorflow.keras.optimizers import Adam\n",
        "import tensorflow.keras.backend as K\n",
        "import librosa\n",
        "import librosa.display\n",
        "import pylab\n",
        "import matplotlib.pyplot as plt\n",
        "from matplotlib import figure\n",
        "import gc"
      ],
      "execution_count": null,
      "outputs": []
    },
    {
      "cell_type": "code",
      "metadata": {
        "id": "UsIIyZplIjwe"
      },
      "source": [
        "import os\n",
        "os.mkdir('train')\n",
        "os.mkdir('test')"
      ],
      "execution_count": null,
      "outputs": []
    },
    {
      "cell_type": "code",
      "metadata": {
        "id": "EG3fX21lIjzY"
      },
      "source": [
        "from glob import glob"
      ],
      "execution_count": null,
      "outputs": []
    },
    {
      "cell_type": "code",
      "metadata": {
        "id": "9u4iAFuwIj2R",
        "outputId": "af6be532-4355-45d3-e6ad-1fd872ae51bf",
        "colab": {
          "base_uri": "https://localhost:8080/",
          "height": 34
        }
      },
      "source": [
        "(glob('./train/*'))"
      ],
      "execution_count": null,
      "outputs": [
        {
          "output_type": "execute_result",
          "data": {
            "text/plain": [
              "[]"
            ]
          },
          "metadata": {
            "tags": []
          },
          "execution_count": 11
        }
      ]
    },
    {
      "cell_type": "code",
      "metadata": {
        "id": "Tx6NdfOAIj5G"
      },
      "source": [
        "def create_spectrogram(filename,name):\n",
        "    plt.interactive(False)\n",
        "    clip, sample_rate = librosa.load(filename, sr=None)\n",
        "    fig = plt.figure(figsize=[0.72,0.72])\n",
        "    ax = fig.add_subplot(111)\n",
        "    ax.axes.get_xaxis().set_visible(False)\n",
        "    ax.axes.get_yaxis().set_visible(False)\n",
        "    ax.set_frame_on(False)\n",
        "    S = librosa.feature.melspectrogram(y=clip, sr=sample_rate)\n",
        "    librosa.display.specshow(librosa.power_to_db(S, ref=np.max))\n",
        "    filename  = '/content/train/' + name + '.jpg'\n",
        "    plt.savefig(filename, dpi=400, bbox_inches='tight',pad_inches=0)\n",
        "    plt.close()    \n",
        "    fig.clf()\n",
        "    plt.close(fig)\n",
        "    plt.close('all')\n",
        "    del filename,name,clip,sample_rate,fig,ax,S"
      ],
      "execution_count": null,
      "outputs": []
    },
    {
      "cell_type": "code",
      "metadata": {
        "id": "UpNeh-JcIj8C",
        "outputId": "4d91adf3-1c0d-4ac6-ee57-93c24f0b45ff",
        "colab": {
          "base_uri": "https://localhost:8080/",
          "height": 185
        }
      },
      "source": [
        "file_dir=list(glob(\"./fold1/genres/*\"))\n",
        "file_dir"
      ],
      "execution_count": null,
      "outputs": [
        {
          "output_type": "execute_result",
          "data": {
            "text/plain": [
              "['./fold1/genres/jazz',\n",
              " './fold1/genres/pop',\n",
              " './fold1/genres/reggae',\n",
              " './fold1/genres/classical',\n",
              " './fold1/genres/disco',\n",
              " './fold1/genres/blues',\n",
              " './fold1/genres/rock',\n",
              " './fold1/genres/hiphop',\n",
              " './fold1/genres/metal',\n",
              " './fold1/genres/country']"
            ]
          },
          "metadata": {
            "tags": []
          },
          "execution_count": 13
        }
      ]
    },
    {
      "cell_type": "code",
      "metadata": {
        "id": "WOTXITG-Ij-2",
        "outputId": "2807020c-4ba9-4682-b8e6-bfddc030c468",
        "colab": {
          "base_uri": "https://localhost:8080/",
          "height": 35
        }
      },
      "source": [
        "file_list=sorted(list(glob(\"./fold1/genres/*/*\")))\n",
        "file_list[0]"
      ],
      "execution_count": null,
      "outputs": [
        {
          "output_type": "execute_result",
          "data": {
            "application/vnd.google.colaboratory.intrinsic+json": {
              "type": "string"
            },
            "text/plain": [
              "'./fold1/genres/blues/blues.00000.au'"
            ]
          },
          "metadata": {
            "tags": []
          },
          "execution_count": 14
        }
      ]
    },
    {
      "cell_type": "code",
      "metadata": {
        "id": "rIFPLtGPIkB0",
        "outputId": "dd2f0285-e8a8-4dea-e096-d6391d364831",
        "colab": {
          "base_uri": "https://localhost:8080/",
          "height": 35
        }
      },
      "source": [
        "#/content/genres/blues/blues.00000.au\n",
        "file_list[1].split('/')[-1]"
      ],
      "execution_count": null,
      "outputs": [
        {
          "output_type": "execute_result",
          "data": {
            "application/vnd.google.colaboratory.intrinsic+json": {
              "type": "string"
            },
            "text/plain": [
              "'blues.00001.au'"
            ]
          },
          "metadata": {
            "tags": []
          },
          "execution_count": 15
        }
      ]
    },
    {
      "cell_type": "code",
      "metadata": {
        "id": "FE1KO-4dIkFK",
        "outputId": "363f7c4b-cc59-473b-8c61-75052f446764",
        "colab": {
          "base_uri": "https://localhost:8080/",
          "height": 54
        }
      },
      "source": [
        "for i,file in enumerate(file_list):\n",
        "    print(i,end=' ')\n",
        "    filename,name = file,file.split('/')[-1]\n",
        "    create_spectrogram(filename,name)"
      ],
      "execution_count": null,
      "outputs": [
        {
          "output_type": "stream",
          "text": [
            "0 1 2 3 4 5 6 7 8 9 10 11 12 13 14 15 16 17 18 19 20 21 22 23 24 25 26 27 28 29 30 31 32 33 34 35 36 37 38 39 40 41 42 43 44 45 46 47 48 49 50 51 52 53 54 55 56 57 58 59 60 61 62 63 64 65 66 67 68 69 70 71 72 73 74 75 76 77 78 79 80 81 82 83 84 85 86 87 88 89 90 91 92 93 94 95 96 97 98 99 100 101 102 103 104 105 106 107 108 109 110 111 112 113 114 115 116 117 118 119 120 121 122 123 124 125 126 127 128 129 130 131 132 133 134 135 136 137 138 139 140 141 142 143 144 145 146 147 148 149 150 151 152 153 154 155 156 157 158 159 160 161 162 163 164 165 166 167 168 169 170 171 172 173 174 175 176 177 178 179 180 181 182 183 184 185 186 188 189 190 191 192 193 194 195 196 197 198 199 200 201 202 203 204 205 206 207 208 209 210 211 212 213 214 215 216 217 218 219 220 221 222 223 224 225 226 227 228 229 230 231 232 233 234 235 236 237 238 239 240 241 242 243 244 245 246 247 248 249 250 251 252 253 254 255 256 257 258 259 260 261 262 263 264 265 266 267 268 269 270 271 272 273 274 275 276 277 278 279 280 281 282 283 284 285 286 287 288 289 290 291 292 293 294 295 296 297 298 299 300 301 302 303 304 305 306 307 308 309 310 311 312 313 314 315 316 317 318 319 320 321 322 323 324 325 326 327 328 329 330 331 332 333 334 335 336 337 338 339 340 341 342 343 344 345 346 347 348 349 350 351 352 353 354 355 356 357 358 359 360 361 362 363 364 365 366 367 368 369 370 371 372 373 374 375 376 377 378 379 380 381 382 383 384 385 386 387 388 389 390 391 392 393 394 395 396 397 398 399 400 401 402 403 404 405 406 407 408 409 410 411 412 413 414 415 416 417 418 419 420 421 422 423 424 425 426 427 428 429 430 431 432 433 434 435 436 437 438 439 440 441 442 443 444 445 446 447 448 449 450 451 452 453 454 455 456 457 458 459 460 461 462 463 464 465 466 467 468 469 470 471 472 473 474 475 476 477 478 479 480 481 482 483 484 485 486 487 488 489 490 491 492 493 494 495 496 497 498 499 500 501 502 503 504 505 506 507 508 509 510 511 512 513 514 515 516 517 518 519 520 521 522 523 524 525 526 527 528 529 530 531 532 533 534 535 536 537 538 539 540 541 542 543 544 545 546 547 548 549 550 551 552 553 554 555 556 557 558 559 560 561 562 563 564 565 566 567 568 569 570 571 572 573 574 575 576 577 578 579 580 581 582 583 584 585 586 587 588 589 590 591 592 593 594 595 596 597 598 599 600 601 602 603 604 605 606 607 608 609 610 611 612 613 614 615 616 617 618 619 620 621 622 623 624 625 626 627 628 629 630 631 632 633 634 635 636 637 638 639 640 641 642 643 644 645 646 647 648 649 650 651 652 653 654 655 656 657 658 659 660 661 662 663 664 665 666 667 668 669 670 671 672 673 674 675 676 677 678 679 680 681 682 683 684 685 686 687 688 689 690 691 692 693 694 695 696 697 698 699 700 701 702 703 704 705 706 707 708 709 710 711 712 713 714 715 716 717 718 719 720 721 722 723 724 725 726 727 728 729 730 731 732 733 734 735 736 737 738 739 740 741 742 743 744 745 746 747 748 749 750 751 752 753 754 755 756 757 758 759 760 761 762 763 764 765 766 767 768 769 770 771 772 773 774 775 776 777 778 779 780 781 782 783 784 785 786 787 788 789 790 791 792 793 794 795 796 797 798 799 800 801 802 803 804 805 806 807 808 809 810 811 812 813 814 815 816 817 818 819 820 821 822 823 824 825 826 827 828 829 830 831 832 833 834 835 836 837 838 839 840 841 842 843 844 845 846 847 848 849 850 851 852 853 854 855 856 857 858 859 860 861 862 863 864 865 866 867 868 869 870 871 872 873 874 875 876 877 878 879 880 881 882 883 884 885 886 887 888 889 890 891 892 893 894 895 896 897 898 899 900 901 902 903 904 905 906 907 908 909 910 911 912 913 914 915 916 917 918 919 920 921 922 923 924 925 926 927 928 929 930 931 932 933 934 935 936 937 938 939 940 941 942 943 944 945 946 947 948 949 950 951 952 953 954 955 956 957 958 959 960 961 962 963 964 965 966 967 968 969 970 971 972 973 974 975 976 977 978 979 980 981 982 983 984 985 986 987 988 989 990 991 992 993 994 995 996 997 998 999 "
          ],
          "name": "stdout"
        }
      ]
    },
    {
      "cell_type": "code",
      "metadata": {
        "id": "L8vPKOL1INN4",
        "outputId": "72a876e8-4edb-463c-ef3f-ac218c36ca25",
        "colab": {
          "base_uri": "https://localhost:8080/",
          "height": 1000
        }
      },
      "source": [
        "file_names=[x.split('/')[-1] for x in file_list]\n",
        "file_names"
      ],
      "execution_count": null,
      "outputs": [
        {
          "output_type": "execute_result",
          "data": {
            "text/plain": [
              "['blues.00000.au',\n",
              " 'blues.00001.au',\n",
              " 'blues.00002.au',\n",
              " 'blues.00003.au',\n",
              " 'blues.00004.au',\n",
              " 'blues.00005.au',\n",
              " 'blues.00006.au',\n",
              " 'blues.00007.au',\n",
              " 'blues.00008.au',\n",
              " 'blues.00009.au',\n",
              " 'blues.00010.au',\n",
              " 'blues.00011.au',\n",
              " 'blues.00012.au',\n",
              " 'blues.00013.au',\n",
              " 'blues.00014.au',\n",
              " 'blues.00015.au',\n",
              " 'blues.00016.au',\n",
              " 'blues.00017.au',\n",
              " 'blues.00018.au',\n",
              " 'blues.00019.au',\n",
              " 'blues.00020.au',\n",
              " 'blues.00021.au',\n",
              " 'blues.00022.au',\n",
              " 'blues.00023.au',\n",
              " 'blues.00024.au',\n",
              " 'blues.00025.au',\n",
              " 'blues.00026.au',\n",
              " 'blues.00027.au',\n",
              " 'blues.00028.au',\n",
              " 'blues.00029.au',\n",
              " 'blues.00030.au',\n",
              " 'blues.00031.au',\n",
              " 'blues.00032.au',\n",
              " 'blues.00033.au',\n",
              " 'blues.00034.au',\n",
              " 'blues.00035.au',\n",
              " 'blues.00036.au',\n",
              " 'blues.00037.au',\n",
              " 'blues.00038.au',\n",
              " 'blues.00039.au',\n",
              " 'blues.00040.au',\n",
              " 'blues.00041.au',\n",
              " 'blues.00042.au',\n",
              " 'blues.00043.au',\n",
              " 'blues.00044.au',\n",
              " 'blues.00045.au',\n",
              " 'blues.00046.au',\n",
              " 'blues.00047.au',\n",
              " 'blues.00048.au',\n",
              " 'blues.00049.au',\n",
              " 'blues.00050.au',\n",
              " 'blues.00051.au',\n",
              " 'blues.00052.au',\n",
              " 'blues.00053.au',\n",
              " 'blues.00054.au',\n",
              " 'blues.00055.au',\n",
              " 'blues.00056.au',\n",
              " 'blues.00057.au',\n",
              " 'blues.00058.au',\n",
              " 'blues.00059.au',\n",
              " 'blues.00060.au',\n",
              " 'blues.00061.au',\n",
              " 'blues.00062.au',\n",
              " 'blues.00063.au',\n",
              " 'blues.00064.au',\n",
              " 'blues.00065.au',\n",
              " 'blues.00066.au',\n",
              " 'blues.00067.au',\n",
              " 'blues.00068.au',\n",
              " 'blues.00069.au',\n",
              " 'blues.00070.au',\n",
              " 'blues.00071.au',\n",
              " 'blues.00072.au',\n",
              " 'blues.00073.au',\n",
              " 'blues.00074.au',\n",
              " 'blues.00075.au',\n",
              " 'blues.00076.au',\n",
              " 'blues.00077.au',\n",
              " 'blues.00078.au',\n",
              " 'blues.00079.au',\n",
              " 'blues.00080.au',\n",
              " 'blues.00081.au',\n",
              " 'blues.00082.au',\n",
              " 'blues.00083.au',\n",
              " 'blues.00084.au',\n",
              " 'blues.00085.au',\n",
              " 'blues.00086.au',\n",
              " 'blues.00087.au',\n",
              " 'blues.00088.au',\n",
              " 'blues.00089.au',\n",
              " 'blues.00090.au',\n",
              " 'blues.00091.au',\n",
              " 'blues.00092.au',\n",
              " 'blues.00093.au',\n",
              " 'blues.00094.au',\n",
              " 'blues.00095.au',\n",
              " 'blues.00096.au',\n",
              " 'blues.00097.au',\n",
              " 'blues.00098.au',\n",
              " 'blues.00099.au',\n",
              " 'classical.00000.au',\n",
              " 'classical.00001.au',\n",
              " 'classical.00002.au',\n",
              " 'classical.00003.au',\n",
              " 'classical.00004.au',\n",
              " 'classical.00005.au',\n",
              " 'classical.00006.au',\n",
              " 'classical.00007.au',\n",
              " 'classical.00008.au',\n",
              " 'classical.00009.au',\n",
              " 'classical.00010.au',\n",
              " 'classical.00011.au',\n",
              " 'classical.00012.au',\n",
              " 'classical.00013.au',\n",
              " 'classical.00014.au',\n",
              " 'classical.00015.au',\n",
              " 'classical.00016.au',\n",
              " 'classical.00017.au',\n",
              " 'classical.00018.au',\n",
              " 'classical.00019.au',\n",
              " 'classical.00020.au',\n",
              " 'classical.00021.au',\n",
              " 'classical.00022.au',\n",
              " 'classical.00023.au',\n",
              " 'classical.00024.au',\n",
              " 'classical.00025.au',\n",
              " 'classical.00026.au',\n",
              " 'classical.00027.au',\n",
              " 'classical.00028.au',\n",
              " 'classical.00029.au',\n",
              " 'classical.00030.au',\n",
              " 'classical.00031.au',\n",
              " 'classical.00032.au',\n",
              " 'classical.00033.au',\n",
              " 'classical.00034.au',\n",
              " 'classical.00035.au',\n",
              " 'classical.00036.au',\n",
              " 'classical.00037.au',\n",
              " 'classical.00038.au',\n",
              " 'classical.00039.au',\n",
              " 'classical.00040.au',\n",
              " 'classical.00041.au',\n",
              " 'classical.00042.au',\n",
              " 'classical.00043.au',\n",
              " 'classical.00044.au',\n",
              " 'classical.00045.au',\n",
              " 'classical.00046.au',\n",
              " 'classical.00047.au',\n",
              " 'classical.00048.au',\n",
              " 'classical.00049.au',\n",
              " 'classical.00050.au',\n",
              " 'classical.00051.au',\n",
              " 'classical.00052.au',\n",
              " 'classical.00053.au',\n",
              " 'classical.00054.au',\n",
              " 'classical.00055.au',\n",
              " 'classical.00056.au',\n",
              " 'classical.00057.au',\n",
              " 'classical.00058.au',\n",
              " 'classical.00059.au',\n",
              " 'classical.00060.au',\n",
              " 'classical.00061.au',\n",
              " 'classical.00062.au',\n",
              " 'classical.00063.au',\n",
              " 'classical.00064.au',\n",
              " 'classical.00065.au',\n",
              " 'classical.00066.au',\n",
              " 'classical.00067.au',\n",
              " 'classical.00068.au',\n",
              " 'classical.00069.au',\n",
              " 'classical.00070.au',\n",
              " 'classical.00071.au',\n",
              " 'classical.00072.au',\n",
              " 'classical.00073.au',\n",
              " 'classical.00074.au',\n",
              " 'classical.00075.au',\n",
              " 'classical.00076.au',\n",
              " 'classical.00077.au',\n",
              " 'classical.00078.au',\n",
              " 'classical.00079.au',\n",
              " 'classical.00080.au',\n",
              " 'classical.00081.au',\n",
              " 'classical.00082.au',\n",
              " 'classical.00083.au',\n",
              " 'classical.00084.au',\n",
              " 'classical.00085.au',\n",
              " 'classical.00086.au',\n",
              " 'classical.00087.au',\n",
              " 'classical.00088.au',\n",
              " 'classical.00089.au',\n",
              " 'classical.00090.au',\n",
              " 'classical.00091.au',\n",
              " 'classical.00092.au',\n",
              " 'classical.00093.au',\n",
              " 'classical.00094.au',\n",
              " 'classical.00095.au',\n",
              " 'classical.00096.au',\n",
              " 'classical.00097.au',\n",
              " 'classical.00098.au',\n",
              " 'classical.00099.au',\n",
              " 'country.00000.au',\n",
              " 'country.00001.au',\n",
              " 'country.00002.au',\n",
              " 'country.00003.au',\n",
              " 'country.00004.au',\n",
              " 'country.00005.au',\n",
              " 'country.00006.au',\n",
              " 'country.00007.au',\n",
              " 'country.00008.au',\n",
              " 'country.00009.au',\n",
              " 'country.00010.au',\n",
              " 'country.00011.au',\n",
              " 'country.00012.au',\n",
              " 'country.00013.au',\n",
              " 'country.00014.au',\n",
              " 'country.00015.au',\n",
              " 'country.00016.au',\n",
              " 'country.00017.au',\n",
              " 'country.00018.au',\n",
              " 'country.00019.au',\n",
              " 'country.00020.au',\n",
              " 'country.00021.au',\n",
              " 'country.00022.au',\n",
              " 'country.00023.au',\n",
              " 'country.00024.au',\n",
              " 'country.00025.au',\n",
              " 'country.00026.au',\n",
              " 'country.00027.au',\n",
              " 'country.00028.au',\n",
              " 'country.00029.au',\n",
              " 'country.00030.au',\n",
              " 'country.00031.au',\n",
              " 'country.00032.au',\n",
              " 'country.00033.au',\n",
              " 'country.00034.au',\n",
              " 'country.00035.au',\n",
              " 'country.00036.au',\n",
              " 'country.00037.au',\n",
              " 'country.00038.au',\n",
              " 'country.00039.au',\n",
              " 'country.00040.au',\n",
              " 'country.00041.au',\n",
              " 'country.00042.au',\n",
              " 'country.00043.au',\n",
              " 'country.00044.au',\n",
              " 'country.00045.au',\n",
              " 'country.00046.au',\n",
              " 'country.00047.au',\n",
              " 'country.00048.au',\n",
              " 'country.00049.au',\n",
              " 'country.00050.au',\n",
              " 'country.00051.au',\n",
              " 'country.00052.au',\n",
              " 'country.00053.au',\n",
              " 'country.00054.au',\n",
              " 'country.00055.au',\n",
              " 'country.00056.au',\n",
              " 'country.00057.au',\n",
              " 'country.00058.au',\n",
              " 'country.00059.au',\n",
              " 'country.00060.au',\n",
              " 'country.00061.au',\n",
              " 'country.00062.au',\n",
              " 'country.00063.au',\n",
              " 'country.00064.au',\n",
              " 'country.00065.au',\n",
              " 'country.00066.au',\n",
              " 'country.00067.au',\n",
              " 'country.00068.au',\n",
              " 'country.00069.au',\n",
              " 'country.00070.au',\n",
              " 'country.00071.au',\n",
              " 'country.00072.au',\n",
              " 'country.00073.au',\n",
              " 'country.00074.au',\n",
              " 'country.00075.au',\n",
              " 'country.00076.au',\n",
              " 'country.00077.au',\n",
              " 'country.00078.au',\n",
              " 'country.00079.au',\n",
              " 'country.00080.au',\n",
              " 'country.00081.au',\n",
              " 'country.00082.au',\n",
              " 'country.00083.au',\n",
              " 'country.00084.au',\n",
              " 'country.00085.au',\n",
              " 'country.00086.au',\n",
              " 'country.00087.au',\n",
              " 'country.00088.au',\n",
              " 'country.00089.au',\n",
              " 'country.00090.au',\n",
              " 'country.00091.au',\n",
              " 'country.00092.au',\n",
              " 'country.00093.au',\n",
              " 'country.00094.au',\n",
              " 'country.00095.au',\n",
              " 'country.00096.au',\n",
              " 'country.00097.au',\n",
              " 'country.00098.au',\n",
              " 'country.00099.au',\n",
              " 'disco.00000.au',\n",
              " 'disco.00001.au',\n",
              " 'disco.00002.au',\n",
              " 'disco.00003.au',\n",
              " 'disco.00004.au',\n",
              " 'disco.00005.au',\n",
              " 'disco.00006.au',\n",
              " 'disco.00007.au',\n",
              " 'disco.00008.au',\n",
              " 'disco.00009.au',\n",
              " 'disco.00010.au',\n",
              " 'disco.00011.au',\n",
              " 'disco.00012.au',\n",
              " 'disco.00013.au',\n",
              " 'disco.00014.au',\n",
              " 'disco.00015.au',\n",
              " 'disco.00016.au',\n",
              " 'disco.00017.au',\n",
              " 'disco.00018.au',\n",
              " 'disco.00019.au',\n",
              " 'disco.00020.au',\n",
              " 'disco.00021.au',\n",
              " 'disco.00022.au',\n",
              " 'disco.00023.au',\n",
              " 'disco.00024.au',\n",
              " 'disco.00025.au',\n",
              " 'disco.00026.au',\n",
              " 'disco.00027.au',\n",
              " 'disco.00028.au',\n",
              " 'disco.00029.au',\n",
              " 'disco.00030.au',\n",
              " 'disco.00031.au',\n",
              " 'disco.00032.au',\n",
              " 'disco.00033.au',\n",
              " 'disco.00034.au',\n",
              " 'disco.00035.au',\n",
              " 'disco.00036.au',\n",
              " 'disco.00037.au',\n",
              " 'disco.00038.au',\n",
              " 'disco.00039.au',\n",
              " 'disco.00040.au',\n",
              " 'disco.00041.au',\n",
              " 'disco.00042.au',\n",
              " 'disco.00043.au',\n",
              " 'disco.00044.au',\n",
              " 'disco.00045.au',\n",
              " 'disco.00046.au',\n",
              " 'disco.00047.au',\n",
              " 'disco.00048.au',\n",
              " 'disco.00049.au',\n",
              " 'disco.00050.au',\n",
              " 'disco.00051.au',\n",
              " 'disco.00052.au',\n",
              " 'disco.00053.au',\n",
              " 'disco.00054.au',\n",
              " 'disco.00055.au',\n",
              " 'disco.00056.au',\n",
              " 'disco.00057.au',\n",
              " 'disco.00058.au',\n",
              " 'disco.00059.au',\n",
              " 'disco.00060.au',\n",
              " 'disco.00061.au',\n",
              " 'disco.00062.au',\n",
              " 'disco.00063.au',\n",
              " 'disco.00064.au',\n",
              " 'disco.00065.au',\n",
              " 'disco.00066.au',\n",
              " 'disco.00067.au',\n",
              " 'disco.00068.au',\n",
              " 'disco.00069.au',\n",
              " 'disco.00070.au',\n",
              " 'disco.00071.au',\n",
              " 'disco.00072.au',\n",
              " 'disco.00073.au',\n",
              " 'disco.00074.au',\n",
              " 'disco.00075.au',\n",
              " 'disco.00076.au',\n",
              " 'disco.00077.au',\n",
              " 'disco.00078.au',\n",
              " 'disco.00079.au',\n",
              " 'disco.00080.au',\n",
              " 'disco.00081.au',\n",
              " 'disco.00082.au',\n",
              " 'disco.00083.au',\n",
              " 'disco.00084.au',\n",
              " 'disco.00085.au',\n",
              " 'disco.00086.au',\n",
              " 'disco.00087.au',\n",
              " 'disco.00088.au',\n",
              " 'disco.00089.au',\n",
              " 'disco.00090.au',\n",
              " 'disco.00091.au',\n",
              " 'disco.00092.au',\n",
              " 'disco.00093.au',\n",
              " 'disco.00094.au',\n",
              " 'disco.00095.au',\n",
              " 'disco.00096.au',\n",
              " 'disco.00097.au',\n",
              " 'disco.00098.au',\n",
              " 'disco.00099.au',\n",
              " 'hiphop.00000.au',\n",
              " 'hiphop.00001.au',\n",
              " 'hiphop.00002.au',\n",
              " 'hiphop.00003.au',\n",
              " 'hiphop.00004.au',\n",
              " 'hiphop.00005.au',\n",
              " 'hiphop.00006.au',\n",
              " 'hiphop.00007.au',\n",
              " 'hiphop.00008.au',\n",
              " 'hiphop.00009.au',\n",
              " 'hiphop.00010.au',\n",
              " 'hiphop.00011.au',\n",
              " 'hiphop.00012.au',\n",
              " 'hiphop.00013.au',\n",
              " 'hiphop.00014.au',\n",
              " 'hiphop.00015.au',\n",
              " 'hiphop.00016.au',\n",
              " 'hiphop.00017.au',\n",
              " 'hiphop.00018.au',\n",
              " 'hiphop.00019.au',\n",
              " 'hiphop.00020.au',\n",
              " 'hiphop.00021.au',\n",
              " 'hiphop.00022.au',\n",
              " 'hiphop.00023.au',\n",
              " 'hiphop.00024.au',\n",
              " 'hiphop.00025.au',\n",
              " 'hiphop.00026.au',\n",
              " 'hiphop.00027.au',\n",
              " 'hiphop.00028.au',\n",
              " 'hiphop.00029.au',\n",
              " 'hiphop.00030.au',\n",
              " 'hiphop.00031.au',\n",
              " 'hiphop.00032.au',\n",
              " 'hiphop.00033.au',\n",
              " 'hiphop.00034.au',\n",
              " 'hiphop.00035.au',\n",
              " 'hiphop.00036.au',\n",
              " 'hiphop.00037.au',\n",
              " 'hiphop.00038.au',\n",
              " 'hiphop.00039.au',\n",
              " 'hiphop.00040.au',\n",
              " 'hiphop.00041.au',\n",
              " 'hiphop.00042.au',\n",
              " 'hiphop.00043.au',\n",
              " 'hiphop.00044.au',\n",
              " 'hiphop.00045.au',\n",
              " 'hiphop.00046.au',\n",
              " 'hiphop.00047.au',\n",
              " 'hiphop.00048.au',\n",
              " 'hiphop.00049.au',\n",
              " 'hiphop.00050.au',\n",
              " 'hiphop.00051.au',\n",
              " 'hiphop.00052.au',\n",
              " 'hiphop.00053.au',\n",
              " 'hiphop.00054.au',\n",
              " 'hiphop.00055.au',\n",
              " 'hiphop.00056.au',\n",
              " 'hiphop.00057.au',\n",
              " 'hiphop.00058.au',\n",
              " 'hiphop.00059.au',\n",
              " 'hiphop.00060.au',\n",
              " 'hiphop.00061.au',\n",
              " 'hiphop.00062.au',\n",
              " 'hiphop.00063.au',\n",
              " 'hiphop.00064.au',\n",
              " 'hiphop.00065.au',\n",
              " 'hiphop.00066.au',\n",
              " 'hiphop.00067.au',\n",
              " 'hiphop.00068.au',\n",
              " 'hiphop.00069.au',\n",
              " 'hiphop.00070.au',\n",
              " 'hiphop.00071.au',\n",
              " 'hiphop.00072.au',\n",
              " 'hiphop.00073.au',\n",
              " 'hiphop.00074.au',\n",
              " 'hiphop.00075.au',\n",
              " 'hiphop.00076.au',\n",
              " 'hiphop.00077.au',\n",
              " 'hiphop.00078.au',\n",
              " 'hiphop.00079.au',\n",
              " 'hiphop.00080.au',\n",
              " 'hiphop.00081.au',\n",
              " 'hiphop.00082.au',\n",
              " 'hiphop.00083.au',\n",
              " 'hiphop.00084.au',\n",
              " 'hiphop.00085.au',\n",
              " 'hiphop.00086.au',\n",
              " 'hiphop.00087.au',\n",
              " 'hiphop.00088.au',\n",
              " 'hiphop.00089.au',\n",
              " 'hiphop.00090.au',\n",
              " 'hiphop.00091.au',\n",
              " 'hiphop.00092.au',\n",
              " 'hiphop.00093.au',\n",
              " 'hiphop.00094.au',\n",
              " 'hiphop.00095.au',\n",
              " 'hiphop.00096.au',\n",
              " 'hiphop.00097.au',\n",
              " 'hiphop.00098.au',\n",
              " 'hiphop.00099.au',\n",
              " 'jazz.00000.au',\n",
              " 'jazz.00001.au',\n",
              " 'jazz.00002.au',\n",
              " 'jazz.00003.au',\n",
              " 'jazz.00004.au',\n",
              " 'jazz.00005.au',\n",
              " 'jazz.00006.au',\n",
              " 'jazz.00007.au',\n",
              " 'jazz.00008.au',\n",
              " 'jazz.00009.au',\n",
              " 'jazz.00010.au',\n",
              " 'jazz.00011.au',\n",
              " 'jazz.00012.au',\n",
              " 'jazz.00013.au',\n",
              " 'jazz.00014.au',\n",
              " 'jazz.00015.au',\n",
              " 'jazz.00016.au',\n",
              " 'jazz.00017.au',\n",
              " 'jazz.00018.au',\n",
              " 'jazz.00019.au',\n",
              " 'jazz.00020.au',\n",
              " 'jazz.00021.au',\n",
              " 'jazz.00022.au',\n",
              " 'jazz.00023.au',\n",
              " 'jazz.00024.au',\n",
              " 'jazz.00025.au',\n",
              " 'jazz.00026.au',\n",
              " 'jazz.00027.au',\n",
              " 'jazz.00028.au',\n",
              " 'jazz.00029.au',\n",
              " 'jazz.00030.au',\n",
              " 'jazz.00031.au',\n",
              " 'jazz.00032.au',\n",
              " 'jazz.00033.au',\n",
              " 'jazz.00034.au',\n",
              " 'jazz.00035.au',\n",
              " 'jazz.00036.au',\n",
              " 'jazz.00037.au',\n",
              " 'jazz.00038.au',\n",
              " 'jazz.00039.au',\n",
              " 'jazz.00040.au',\n",
              " 'jazz.00041.au',\n",
              " 'jazz.00042.au',\n",
              " 'jazz.00043.au',\n",
              " 'jazz.00044.au',\n",
              " 'jazz.00045.au',\n",
              " 'jazz.00046.au',\n",
              " 'jazz.00047.au',\n",
              " 'jazz.00048.au',\n",
              " 'jazz.00049.au',\n",
              " 'jazz.00050.au',\n",
              " 'jazz.00051.au',\n",
              " 'jazz.00052.au',\n",
              " 'jazz.00053.au',\n",
              " 'jazz.00054.au',\n",
              " 'jazz.00055.au',\n",
              " 'jazz.00056.au',\n",
              " 'jazz.00057.au',\n",
              " 'jazz.00058.au',\n",
              " 'jazz.00059.au',\n",
              " 'jazz.00060.au',\n",
              " 'jazz.00061.au',\n",
              " 'jazz.00062.au',\n",
              " 'jazz.00063.au',\n",
              " 'jazz.00064.au',\n",
              " 'jazz.00065.au',\n",
              " 'jazz.00066.au',\n",
              " 'jazz.00067.au',\n",
              " 'jazz.00068.au',\n",
              " 'jazz.00069.au',\n",
              " 'jazz.00070.au',\n",
              " 'jazz.00071.au',\n",
              " 'jazz.00072.au',\n",
              " 'jazz.00073.au',\n",
              " 'jazz.00074.au',\n",
              " 'jazz.00075.au',\n",
              " 'jazz.00076.au',\n",
              " 'jazz.00077.au',\n",
              " 'jazz.00078.au',\n",
              " 'jazz.00079.au',\n",
              " 'jazz.00080.au',\n",
              " 'jazz.00081.au',\n",
              " 'jazz.00082.au',\n",
              " 'jazz.00083.au',\n",
              " 'jazz.00084.au',\n",
              " 'jazz.00085.au',\n",
              " 'jazz.00086.au',\n",
              " 'jazz.00087.au',\n",
              " 'jazz.00088.au',\n",
              " 'jazz.00089.au',\n",
              " 'jazz.00090.au',\n",
              " 'jazz.00091.au',\n",
              " 'jazz.00092.au',\n",
              " 'jazz.00093.au',\n",
              " 'jazz.00094.au',\n",
              " 'jazz.00095.au',\n",
              " 'jazz.00096.au',\n",
              " 'jazz.00097.au',\n",
              " 'jazz.00098.au',\n",
              " 'jazz.00099.au',\n",
              " 'metal.00000.au',\n",
              " 'metal.00001.au',\n",
              " 'metal.00002.au',\n",
              " 'metal.00003.au',\n",
              " 'metal.00004.au',\n",
              " 'metal.00005.au',\n",
              " 'metal.00006.au',\n",
              " 'metal.00007.au',\n",
              " 'metal.00008.au',\n",
              " 'metal.00009.au',\n",
              " 'metal.00010.au',\n",
              " 'metal.00011.au',\n",
              " 'metal.00012.au',\n",
              " 'metal.00013.au',\n",
              " 'metal.00014.au',\n",
              " 'metal.00015.au',\n",
              " 'metal.00016.au',\n",
              " 'metal.00017.au',\n",
              " 'metal.00018.au',\n",
              " 'metal.00019.au',\n",
              " 'metal.00020.au',\n",
              " 'metal.00021.au',\n",
              " 'metal.00022.au',\n",
              " 'metal.00023.au',\n",
              " 'metal.00024.au',\n",
              " 'metal.00025.au',\n",
              " 'metal.00026.au',\n",
              " 'metal.00027.au',\n",
              " 'metal.00028.au',\n",
              " 'metal.00029.au',\n",
              " 'metal.00030.au',\n",
              " 'metal.00031.au',\n",
              " 'metal.00032.au',\n",
              " 'metal.00033.au',\n",
              " 'metal.00034.au',\n",
              " 'metal.00035.au',\n",
              " 'metal.00036.au',\n",
              " 'metal.00037.au',\n",
              " 'metal.00038.au',\n",
              " 'metal.00039.au',\n",
              " 'metal.00040.au',\n",
              " 'metal.00041.au',\n",
              " 'metal.00042.au',\n",
              " 'metal.00043.au',\n",
              " 'metal.00044.au',\n",
              " 'metal.00045.au',\n",
              " 'metal.00046.au',\n",
              " 'metal.00047.au',\n",
              " 'metal.00048.au',\n",
              " 'metal.00049.au',\n",
              " 'metal.00050.au',\n",
              " 'metal.00051.au',\n",
              " 'metal.00052.au',\n",
              " 'metal.00053.au',\n",
              " 'metal.00054.au',\n",
              " 'metal.00055.au',\n",
              " 'metal.00056.au',\n",
              " 'metal.00057.au',\n",
              " 'metal.00058.au',\n",
              " 'metal.00059.au',\n",
              " 'metal.00060.au',\n",
              " 'metal.00061.au',\n",
              " 'metal.00062.au',\n",
              " 'metal.00063.au',\n",
              " 'metal.00064.au',\n",
              " 'metal.00065.au',\n",
              " 'metal.00066.au',\n",
              " 'metal.00067.au',\n",
              " 'metal.00068.au',\n",
              " 'metal.00069.au',\n",
              " 'metal.00070.au',\n",
              " 'metal.00071.au',\n",
              " 'metal.00072.au',\n",
              " 'metal.00073.au',\n",
              " 'metal.00074.au',\n",
              " 'metal.00075.au',\n",
              " 'metal.00076.au',\n",
              " 'metal.00077.au',\n",
              " 'metal.00078.au',\n",
              " 'metal.00079.au',\n",
              " 'metal.00080.au',\n",
              " 'metal.00081.au',\n",
              " 'metal.00082.au',\n",
              " 'metal.00083.au',\n",
              " 'metal.00084.au',\n",
              " 'metal.00085.au',\n",
              " 'metal.00086.au',\n",
              " 'metal.00087.au',\n",
              " 'metal.00088.au',\n",
              " 'metal.00089.au',\n",
              " 'metal.00090.au',\n",
              " 'metal.00091.au',\n",
              " 'metal.00092.au',\n",
              " 'metal.00093.au',\n",
              " 'metal.00094.au',\n",
              " 'metal.00095.au',\n",
              " 'metal.00096.au',\n",
              " 'metal.00097.au',\n",
              " 'metal.00098.au',\n",
              " 'metal.00099.au',\n",
              " 'pop.00000.au',\n",
              " 'pop.00001.au',\n",
              " 'pop.00002.au',\n",
              " 'pop.00003.au',\n",
              " 'pop.00004.au',\n",
              " 'pop.00005.au',\n",
              " 'pop.00006.au',\n",
              " 'pop.00007.au',\n",
              " 'pop.00008.au',\n",
              " 'pop.00009.au',\n",
              " 'pop.00010.au',\n",
              " 'pop.00011.au',\n",
              " 'pop.00012.au',\n",
              " 'pop.00013.au',\n",
              " 'pop.00014.au',\n",
              " 'pop.00015.au',\n",
              " 'pop.00016.au',\n",
              " 'pop.00017.au',\n",
              " 'pop.00018.au',\n",
              " 'pop.00019.au',\n",
              " 'pop.00020.au',\n",
              " 'pop.00021.au',\n",
              " 'pop.00022.au',\n",
              " 'pop.00023.au',\n",
              " 'pop.00024.au',\n",
              " 'pop.00025.au',\n",
              " 'pop.00026.au',\n",
              " 'pop.00027.au',\n",
              " 'pop.00028.au',\n",
              " 'pop.00029.au',\n",
              " 'pop.00030.au',\n",
              " 'pop.00031.au',\n",
              " 'pop.00032.au',\n",
              " 'pop.00033.au',\n",
              " 'pop.00034.au',\n",
              " 'pop.00035.au',\n",
              " 'pop.00036.au',\n",
              " 'pop.00037.au',\n",
              " 'pop.00038.au',\n",
              " 'pop.00039.au',\n",
              " 'pop.00040.au',\n",
              " 'pop.00041.au',\n",
              " 'pop.00042.au',\n",
              " 'pop.00043.au',\n",
              " 'pop.00044.au',\n",
              " 'pop.00045.au',\n",
              " 'pop.00046.au',\n",
              " 'pop.00047.au',\n",
              " 'pop.00048.au',\n",
              " 'pop.00049.au',\n",
              " 'pop.00050.au',\n",
              " 'pop.00051.au',\n",
              " 'pop.00052.au',\n",
              " 'pop.00053.au',\n",
              " 'pop.00054.au',\n",
              " 'pop.00055.au',\n",
              " 'pop.00056.au',\n",
              " 'pop.00057.au',\n",
              " 'pop.00058.au',\n",
              " 'pop.00059.au',\n",
              " 'pop.00060.au',\n",
              " 'pop.00061.au',\n",
              " 'pop.00062.au',\n",
              " 'pop.00063.au',\n",
              " 'pop.00064.au',\n",
              " 'pop.00065.au',\n",
              " 'pop.00066.au',\n",
              " 'pop.00067.au',\n",
              " 'pop.00068.au',\n",
              " 'pop.00069.au',\n",
              " 'pop.00070.au',\n",
              " 'pop.00071.au',\n",
              " 'pop.00072.au',\n",
              " 'pop.00073.au',\n",
              " 'pop.00074.au',\n",
              " 'pop.00075.au',\n",
              " 'pop.00076.au',\n",
              " 'pop.00077.au',\n",
              " 'pop.00078.au',\n",
              " 'pop.00079.au',\n",
              " 'pop.00080.au',\n",
              " 'pop.00081.au',\n",
              " 'pop.00082.au',\n",
              " 'pop.00083.au',\n",
              " 'pop.00084.au',\n",
              " 'pop.00085.au',\n",
              " 'pop.00086.au',\n",
              " 'pop.00087.au',\n",
              " 'pop.00088.au',\n",
              " 'pop.00089.au',\n",
              " 'pop.00090.au',\n",
              " 'pop.00091.au',\n",
              " 'pop.00092.au',\n",
              " 'pop.00093.au',\n",
              " 'pop.00094.au',\n",
              " 'pop.00095.au',\n",
              " 'pop.00096.au',\n",
              " 'pop.00097.au',\n",
              " 'pop.00098.au',\n",
              " 'pop.00099.au',\n",
              " 'reggae.00000.au',\n",
              " 'reggae.00001.au',\n",
              " 'reggae.00002.au',\n",
              " 'reggae.00003.au',\n",
              " 'reggae.00004.au',\n",
              " 'reggae.00005.au',\n",
              " 'reggae.00006.au',\n",
              " 'reggae.00007.au',\n",
              " 'reggae.00008.au',\n",
              " 'reggae.00009.au',\n",
              " 'reggae.00010.au',\n",
              " 'reggae.00011.au',\n",
              " 'reggae.00012.au',\n",
              " 'reggae.00013.au',\n",
              " 'reggae.00014.au',\n",
              " 'reggae.00015.au',\n",
              " 'reggae.00016.au',\n",
              " 'reggae.00017.au',\n",
              " 'reggae.00018.au',\n",
              " 'reggae.00019.au',\n",
              " 'reggae.00020.au',\n",
              " 'reggae.00021.au',\n",
              " 'reggae.00022.au',\n",
              " 'reggae.00023.au',\n",
              " 'reggae.00024.au',\n",
              " 'reggae.00025.au',\n",
              " 'reggae.00026.au',\n",
              " 'reggae.00027.au',\n",
              " 'reggae.00028.au',\n",
              " 'reggae.00029.au',\n",
              " 'reggae.00030.au',\n",
              " 'reggae.00031.au',\n",
              " 'reggae.00032.au',\n",
              " 'reggae.00033.au',\n",
              " 'reggae.00034.au',\n",
              " 'reggae.00035.au',\n",
              " 'reggae.00036.au',\n",
              " 'reggae.00037.au',\n",
              " 'reggae.00038.au',\n",
              " 'reggae.00039.au',\n",
              " 'reggae.00040.au',\n",
              " 'reggae.00041.au',\n",
              " 'reggae.00042.au',\n",
              " 'reggae.00043.au',\n",
              " 'reggae.00044.au',\n",
              " 'reggae.00045.au',\n",
              " 'reggae.00046.au',\n",
              " 'reggae.00047.au',\n",
              " 'reggae.00048.au',\n",
              " 'reggae.00049.au',\n",
              " 'reggae.00050.au',\n",
              " 'reggae.00051.au',\n",
              " 'reggae.00052.au',\n",
              " 'reggae.00053.au',\n",
              " 'reggae.00054.au',\n",
              " 'reggae.00055.au',\n",
              " 'reggae.00056.au',\n",
              " 'reggae.00057.au',\n",
              " 'reggae.00058.au',\n",
              " 'reggae.00059.au',\n",
              " 'reggae.00060.au',\n",
              " 'reggae.00061.au',\n",
              " 'reggae.00062.au',\n",
              " 'reggae.00063.au',\n",
              " 'reggae.00064.au',\n",
              " 'reggae.00065.au',\n",
              " 'reggae.00066.au',\n",
              " 'reggae.00067.au',\n",
              " 'reggae.00068.au',\n",
              " 'reggae.00069.au',\n",
              " 'reggae.00070.au',\n",
              " 'reggae.00071.au',\n",
              " 'reggae.00072.au',\n",
              " 'reggae.00073.au',\n",
              " 'reggae.00074.au',\n",
              " 'reggae.00075.au',\n",
              " 'reggae.00076.au',\n",
              " 'reggae.00077.au',\n",
              " 'reggae.00078.au',\n",
              " 'reggae.00079.au',\n",
              " 'reggae.00080.au',\n",
              " 'reggae.00081.au',\n",
              " 'reggae.00082.au',\n",
              " 'reggae.00083.au',\n",
              " 'reggae.00084.au',\n",
              " 'reggae.00085.au',\n",
              " 'reggae.00086.au',\n",
              " 'reggae.00087.au',\n",
              " 'reggae.00088.au',\n",
              " 'reggae.00089.au',\n",
              " 'reggae.00090.au',\n",
              " 'reggae.00091.au',\n",
              " 'reggae.00092.au',\n",
              " 'reggae.00093.au',\n",
              " 'reggae.00094.au',\n",
              " 'reggae.00095.au',\n",
              " 'reggae.00096.au',\n",
              " 'reggae.00097.au',\n",
              " 'reggae.00098.au',\n",
              " 'reggae.00099.au',\n",
              " 'rock.00000.au',\n",
              " 'rock.00001.au',\n",
              " 'rock.00002.au',\n",
              " 'rock.00003.au',\n",
              " 'rock.00004.au',\n",
              " 'rock.00005.au',\n",
              " 'rock.00006.au',\n",
              " 'rock.00007.au',\n",
              " 'rock.00008.au',\n",
              " 'rock.00009.au',\n",
              " 'rock.00010.au',\n",
              " 'rock.00011.au',\n",
              " 'rock.00012.au',\n",
              " 'rock.00013.au',\n",
              " 'rock.00014.au',\n",
              " 'rock.00015.au',\n",
              " 'rock.00016.au',\n",
              " 'rock.00017.au',\n",
              " 'rock.00018.au',\n",
              " 'rock.00019.au',\n",
              " 'rock.00020.au',\n",
              " 'rock.00021.au',\n",
              " 'rock.00022.au',\n",
              " 'rock.00023.au',\n",
              " 'rock.00024.au',\n",
              " 'rock.00025.au',\n",
              " 'rock.00026.au',\n",
              " 'rock.00027.au',\n",
              " 'rock.00028.au',\n",
              " 'rock.00029.au',\n",
              " 'rock.00030.au',\n",
              " 'rock.00031.au',\n",
              " 'rock.00032.au',\n",
              " 'rock.00033.au',\n",
              " 'rock.00034.au',\n",
              " 'rock.00035.au',\n",
              " 'rock.00036.au',\n",
              " 'rock.00037.au',\n",
              " 'rock.00038.au',\n",
              " 'rock.00039.au',\n",
              " 'rock.00040.au',\n",
              " 'rock.00041.au',\n",
              " 'rock.00042.au',\n",
              " 'rock.00043.au',\n",
              " 'rock.00044.au',\n",
              " 'rock.00045.au',\n",
              " 'rock.00046.au',\n",
              " 'rock.00047.au',\n",
              " 'rock.00048.au',\n",
              " 'rock.00049.au',\n",
              " 'rock.00050.au',\n",
              " 'rock.00051.au',\n",
              " 'rock.00052.au',\n",
              " 'rock.00053.au',\n",
              " 'rock.00054.au',\n",
              " 'rock.00055.au',\n",
              " 'rock.00056.au',\n",
              " 'rock.00057.au',\n",
              " 'rock.00058.au',\n",
              " 'rock.00059.au',\n",
              " 'rock.00060.au',\n",
              " 'rock.00061.au',\n",
              " 'rock.00062.au',\n",
              " 'rock.00063.au',\n",
              " 'rock.00064.au',\n",
              " 'rock.00065.au',\n",
              " 'rock.00066.au',\n",
              " 'rock.00067.au',\n",
              " 'rock.00068.au',\n",
              " 'rock.00069.au',\n",
              " 'rock.00070.au',\n",
              " 'rock.00071.au',\n",
              " 'rock.00072.au',\n",
              " 'rock.00073.au',\n",
              " 'rock.00074.au',\n",
              " 'rock.00075.au',\n",
              " 'rock.00076.au',\n",
              " 'rock.00077.au',\n",
              " 'rock.00078.au',\n",
              " 'rock.00079.au',\n",
              " 'rock.00080.au',\n",
              " 'rock.00081.au',\n",
              " 'rock.00082.au',\n",
              " 'rock.00083.au',\n",
              " 'rock.00084.au',\n",
              " 'rock.00085.au',\n",
              " 'rock.00086.au',\n",
              " 'rock.00087.au',\n",
              " 'rock.00088.au',\n",
              " 'rock.00089.au',\n",
              " 'rock.00090.au',\n",
              " 'rock.00091.au',\n",
              " 'rock.00092.au',\n",
              " 'rock.00093.au',\n",
              " 'rock.00094.au',\n",
              " 'rock.00095.au',\n",
              " 'rock.00096.au',\n",
              " 'rock.00097.au',\n",
              " 'rock.00098.au',\n",
              " 'rock.00099.au']"
            ]
          },
          "metadata": {
            "tags": []
          },
          "execution_count": 17
        }
      ]
    },
    {
      "cell_type": "code",
      "metadata": {
        "id": "ZOC7KJbyJHNh"
      },
      "source": [
        "df = pd.DataFrame({'Filename': file_names})"
      ],
      "execution_count": null,
      "outputs": []
    },
    {
      "cell_type": "code",
      "metadata": {
        "id": "HCFP4Cq4JHQM",
        "outputId": "032f3114-6360-42d6-a704-8ba24f3d0c87",
        "colab": {
          "base_uri": "https://localhost:8080/",
          "height": 195
        }
      },
      "source": [
        "df.head()"
      ],
      "execution_count": null,
      "outputs": [
        {
          "output_type": "execute_result",
          "data": {
            "text/html": [
              "<div>\n",
              "<style scoped>\n",
              "    .dataframe tbody tr th:only-of-type {\n",
              "        vertical-align: middle;\n",
              "    }\n",
              "\n",
              "    .dataframe tbody tr th {\n",
              "        vertical-align: top;\n",
              "    }\n",
              "\n",
              "    .dataframe thead th {\n",
              "        text-align: right;\n",
              "    }\n",
              "</style>\n",
              "<table border=\"1\" class=\"dataframe\">\n",
              "  <thead>\n",
              "    <tr style=\"text-align: right;\">\n",
              "      <th></th>\n",
              "      <th>Filename</th>\n",
              "    </tr>\n",
              "  </thead>\n",
              "  <tbody>\n",
              "    <tr>\n",
              "      <th>0</th>\n",
              "      <td>blues.00000.au</td>\n",
              "    </tr>\n",
              "    <tr>\n",
              "      <th>1</th>\n",
              "      <td>blues.00001.au</td>\n",
              "    </tr>\n",
              "    <tr>\n",
              "      <th>2</th>\n",
              "      <td>blues.00002.au</td>\n",
              "    </tr>\n",
              "    <tr>\n",
              "      <th>3</th>\n",
              "      <td>blues.00003.au</td>\n",
              "    </tr>\n",
              "    <tr>\n",
              "      <th>4</th>\n",
              "      <td>blues.00004.au</td>\n",
              "    </tr>\n",
              "  </tbody>\n",
              "</table>\n",
              "</div>"
            ],
            "text/plain": [
              "         Filename\n",
              "0  blues.00000.au\n",
              "1  blues.00001.au\n",
              "2  blues.00002.au\n",
              "3  blues.00003.au\n",
              "4  blues.00004.au"
            ]
          },
          "metadata": {
            "tags": []
          },
          "execution_count": 19
        }
      ]
    },
    {
      "cell_type": "code",
      "metadata": {
        "id": "s5uM5kHJJHS5"
      },
      "source": [
        "df['Labels'] = [x.split('.')[0] for x in df.Filename]"
      ],
      "execution_count": null,
      "outputs": []
    },
    {
      "cell_type": "code",
      "metadata": {
        "id": "aom9DjWqJHVs",
        "outputId": "d1f8e749-6a87-49ca-b213-bbff2f60979e",
        "colab": {
          "base_uri": "https://localhost:8080/",
          "height": 202
        }
      },
      "source": [
        "df.Labels.value_counts()"
      ],
      "execution_count": null,
      "outputs": [
        {
          "output_type": "execute_result",
          "data": {
            "text/plain": [
              "blues        100\n",
              "metal        100\n",
              "jazz         100\n",
              "hiphop       100\n",
              "disco        100\n",
              "reggae       100\n",
              "pop          100\n",
              "classical    100\n",
              "rock         100\n",
              "country      100\n",
              "Name: Labels, dtype: int64"
            ]
          },
          "metadata": {
            "tags": []
          },
          "execution_count": 21
        }
      ]
    },
    {
      "cell_type": "code",
      "metadata": {
        "id": "j1c1BrnYJHYb",
        "outputId": "9b193eaf-89dc-46cc-b2e2-95bc1432b822",
        "colab": {
          "base_uri": "https://localhost:8080/",
          "height": 202
        }
      },
      "source": [
        "classes=list(df['Labels'].value_counts().index)\n",
        "print(len(classes))\n",
        "classes"
      ],
      "execution_count": null,
      "outputs": [
        {
          "output_type": "stream",
          "text": [
            "10\n"
          ],
          "name": "stdout"
        },
        {
          "output_type": "execute_result",
          "data": {
            "text/plain": [
              "['blues',\n",
              " 'metal',\n",
              " 'jazz',\n",
              " 'hiphop',\n",
              " 'disco',\n",
              " 'reggae',\n",
              " 'pop',\n",
              " 'classical',\n",
              " 'rock',\n",
              " 'country']"
            ]
          },
          "metadata": {
            "tags": []
          },
          "execution_count": 22
        }
      ]
    },
    {
      "cell_type": "code",
      "metadata": {
        "id": "BVfG9akdJHbP"
      },
      "source": [
        "for cl in classes:\n",
        "  os.mkdir('/content/train/'+cl)"
      ],
      "execution_count": null,
      "outputs": []
    },
    {
      "cell_type": "code",
      "metadata": {
        "id": "VFn60bHZJHeP"
      },
      "source": [
        "for cl in classes:\n",
        "  os.mkdir('/content/test/'+cl)"
      ],
      "execution_count": null,
      "outputs": []
    },
    {
      "cell_type": "code",
      "metadata": {
        "id": "CxVH-6w9JHh4",
        "outputId": "a13ad0d6-1cc2-4adc-82f5-12b5b077dbe7",
        "colab": {
          "base_uri": "https://localhost:8080/",
          "height": 185
        }
      },
      "source": [
        "class_dict_map={x:'/content/train/'+x+'/' for x in classes}\n",
        "class_dict_map"
      ],
      "execution_count": null,
      "outputs": [
        {
          "output_type": "execute_result",
          "data": {
            "text/plain": [
              "{'blues': '/content/train/blues/',\n",
              " 'classical': '/content/train/classical/',\n",
              " 'country': '/content/train/country/',\n",
              " 'disco': '/content/train/disco/',\n",
              " 'hiphop': '/content/train/hiphop/',\n",
              " 'jazz': '/content/train/jazz/',\n",
              " 'metal': '/content/train/metal/',\n",
              " 'pop': '/content/train/pop/',\n",
              " 'reggae': '/content/train/reggae/',\n",
              " 'rock': '/content/train/rock/'}"
            ]
          },
          "metadata": {
            "tags": []
          },
          "execution_count": 25
        }
      ]
    },
    {
      "cell_type": "code",
      "metadata": {
        "id": "O7dCqelgJHlQ",
        "outputId": "9d726ace-3211-4f60-cdec-fffe2e0cf9b8",
        "colab": {
          "base_uri": "https://localhost:8080/",
          "height": 185
        }
      },
      "source": [
        "class_dict_map1={x:'/content/test/'+x+'/' for x in classes}\n",
        "class_dict_map1"
      ],
      "execution_count": null,
      "outputs": [
        {
          "output_type": "execute_result",
          "data": {
            "text/plain": [
              "{'blues': '/content/test/blues/',\n",
              " 'classical': '/content/test/classical/',\n",
              " 'country': '/content/test/country/',\n",
              " 'disco': '/content/test/disco/',\n",
              " 'hiphop': '/content/test/hiphop/',\n",
              " 'jazz': '/content/test/jazz/',\n",
              " 'metal': '/content/test/metal/',\n",
              " 'pop': '/content/test/pop/',\n",
              " 'reggae': '/content/test/reggae/',\n",
              " 'rock': '/content/test/rock/'}"
            ]
          },
          "metadata": {
            "tags": []
          },
          "execution_count": 26
        }
      ]
    },
    {
      "cell_type": "code",
      "metadata": {
        "id": "gBi7HEE1Jrtm"
      },
      "source": [
        "import shutil"
      ],
      "execution_count": null,
      "outputs": []
    },
    {
      "cell_type": "code",
      "metadata": {
        "id": "GA_245p0JrwK"
      },
      "source": [
        "def return_class(file_name):\n",
        "  cl=df['Labels'][df['Filename']==file_name]\n",
        "  return(cl.values[0])"
      ],
      "execution_count": null,
      "outputs": []
    },
    {
      "cell_type": "code",
      "metadata": {
        "id": "wGO90wIVJrzJ"
      },
      "source": [
        "for file in file_names:\n",
        "  name=file.split('.')[-3]+'.'+file.split('.')[-2]+'.'+file.split('.')[-1]+'.jpg'\n",
        "  if int(file.split('.')[-2])<75:\n",
        "    shutil.move('/content/train/'+name,class_dict_map[return_class(file)]+name)\n",
        "  else:\n",
        "    shutil.move('/content/train/'+name,class_dict_map1[return_class(file)]+name)"
      ],
      "execution_count": null,
      "outputs": []
    },
    {
      "cell_type": "code",
      "metadata": {
        "id": "E1Z3b3ZUJr2A"
      },
      "source": [
        "train_set=[]\n",
        "train_labels=[]\n",
        "for i in range(df.shape[0]):\n",
        "  if (int(df['Filename'][i].split('.')[-2])<75)==True:\n",
        "    train_set.append(df['Filename'][i])\n",
        "    train_labels.append(df['Labels'][i])"
      ],
      "execution_count": null,
      "outputs": []
    },
    {
      "cell_type": "code",
      "metadata": {
        "id": "HsIUK0x0Jr45",
        "outputId": "ca94a2ae-8bcd-48ca-cb33-d0d71175d25b",
        "colab": {
          "base_uri": "https://localhost:8080/",
          "height": 34
        }
      },
      "source": [
        "len(train_set), len(train_labels)"
      ],
      "execution_count": null,
      "outputs": [
        {
          "output_type": "execute_result",
          "data": {
            "text/plain": [
              "(750, 750)"
            ]
          },
          "metadata": {
            "tags": []
          },
          "execution_count": 33
        }
      ]
    },
    {
      "cell_type": "code",
      "metadata": {
        "id": "M_kthh-xJr8V"
      },
      "source": [
        "train_dataset = pd.DataFrame({'Filename':train_set, 'Labels':train_labels})"
      ],
      "execution_count": null,
      "outputs": []
    },
    {
      "cell_type": "code",
      "metadata": {
        "id": "zYb0OzBjaQC5",
        "outputId": "0acd56a9-a8ef-4773-ebe1-b656a5745b89",
        "colab": {
          "base_uri": "https://localhost:8080/",
          "height": 212
        }
      },
      "source": [
        "print(train_dataset.shape)\n",
        "train_dataset.tail()"
      ],
      "execution_count": null,
      "outputs": [
        {
          "output_type": "stream",
          "text": [
            "(750, 2)\n"
          ],
          "name": "stdout"
        },
        {
          "output_type": "execute_result",
          "data": {
            "text/html": [
              "<div>\n",
              "<style scoped>\n",
              "    .dataframe tbody tr th:only-of-type {\n",
              "        vertical-align: middle;\n",
              "    }\n",
              "\n",
              "    .dataframe tbody tr th {\n",
              "        vertical-align: top;\n",
              "    }\n",
              "\n",
              "    .dataframe thead th {\n",
              "        text-align: right;\n",
              "    }\n",
              "</style>\n",
              "<table border=\"1\" class=\"dataframe\">\n",
              "  <thead>\n",
              "    <tr style=\"text-align: right;\">\n",
              "      <th></th>\n",
              "      <th>Filename</th>\n",
              "      <th>Labels</th>\n",
              "    </tr>\n",
              "  </thead>\n",
              "  <tbody>\n",
              "    <tr>\n",
              "      <th>745</th>\n",
              "      <td>rock.00070.au</td>\n",
              "      <td>rock</td>\n",
              "    </tr>\n",
              "    <tr>\n",
              "      <th>746</th>\n",
              "      <td>rock.00071.au</td>\n",
              "      <td>rock</td>\n",
              "    </tr>\n",
              "    <tr>\n",
              "      <th>747</th>\n",
              "      <td>rock.00072.au</td>\n",
              "      <td>rock</td>\n",
              "    </tr>\n",
              "    <tr>\n",
              "      <th>748</th>\n",
              "      <td>rock.00073.au</td>\n",
              "      <td>rock</td>\n",
              "    </tr>\n",
              "    <tr>\n",
              "      <th>749</th>\n",
              "      <td>rock.00074.au</td>\n",
              "      <td>rock</td>\n",
              "    </tr>\n",
              "  </tbody>\n",
              "</table>\n",
              "</div>"
            ],
            "text/plain": [
              "          Filename Labels\n",
              "745  rock.00070.au   rock\n",
              "746  rock.00071.au   rock\n",
              "747  rock.00072.au   rock\n",
              "748  rock.00073.au   rock\n",
              "749  rock.00074.au   rock"
            ]
          },
          "metadata": {
            "tags": []
          },
          "execution_count": 35
        }
      ]
    },
    {
      "cell_type": "code",
      "metadata": {
        "id": "ohbR18vPaQGA"
      },
      "source": [
        "test_dataset = df[~df['Filename'].isin(train_dataset['Filename'])].dropna()"
      ],
      "execution_count": null,
      "outputs": []
    },
    {
      "cell_type": "code",
      "metadata": {
        "id": "W2b70N70aQJY",
        "outputId": "366287b7-d786-471a-97b7-3c00ba325718",
        "colab": {
          "base_uri": "https://localhost:8080/",
          "height": 212
        }
      },
      "source": [
        "print(test_dataset.shape)\n",
        "test_dataset.tail()"
      ],
      "execution_count": null,
      "outputs": [
        {
          "output_type": "stream",
          "text": [
            "(250, 2)\n"
          ],
          "name": "stdout"
        },
        {
          "output_type": "execute_result",
          "data": {
            "text/html": [
              "<div>\n",
              "<style scoped>\n",
              "    .dataframe tbody tr th:only-of-type {\n",
              "        vertical-align: middle;\n",
              "    }\n",
              "\n",
              "    .dataframe tbody tr th {\n",
              "        vertical-align: top;\n",
              "    }\n",
              "\n",
              "    .dataframe thead th {\n",
              "        text-align: right;\n",
              "    }\n",
              "</style>\n",
              "<table border=\"1\" class=\"dataframe\">\n",
              "  <thead>\n",
              "    <tr style=\"text-align: right;\">\n",
              "      <th></th>\n",
              "      <th>Filename</th>\n",
              "      <th>Labels</th>\n",
              "    </tr>\n",
              "  </thead>\n",
              "  <tbody>\n",
              "    <tr>\n",
              "      <th>995</th>\n",
              "      <td>rock.00095.au</td>\n",
              "      <td>rock</td>\n",
              "    </tr>\n",
              "    <tr>\n",
              "      <th>996</th>\n",
              "      <td>rock.00096.au</td>\n",
              "      <td>rock</td>\n",
              "    </tr>\n",
              "    <tr>\n",
              "      <th>997</th>\n",
              "      <td>rock.00097.au</td>\n",
              "      <td>rock</td>\n",
              "    </tr>\n",
              "    <tr>\n",
              "      <th>998</th>\n",
              "      <td>rock.00098.au</td>\n",
              "      <td>rock</td>\n",
              "    </tr>\n",
              "    <tr>\n",
              "      <th>999</th>\n",
              "      <td>rock.00099.au</td>\n",
              "      <td>rock</td>\n",
              "    </tr>\n",
              "  </tbody>\n",
              "</table>\n",
              "</div>"
            ],
            "text/plain": [
              "          Filename Labels\n",
              "995  rock.00095.au   rock\n",
              "996  rock.00096.au   rock\n",
              "997  rock.00097.au   rock\n",
              "998  rock.00098.au   rock\n",
              "999  rock.00099.au   rock"
            ]
          },
          "metadata": {
            "tags": []
          },
          "execution_count": 37
        }
      ]
    },
    {
      "cell_type": "code",
      "metadata": {
        "id": "E0Kos5s6aQM1"
      },
      "source": [
        "test_dataset.reset_index(drop=True, inplace=True)"
      ],
      "execution_count": null,
      "outputs": []
    },
    {
      "cell_type": "code",
      "metadata": {
        "id": "dTeRYD1XajYQ"
      },
      "source": [
        "new_classes = list(train_dataset.Labels.unique())"
      ],
      "execution_count": null,
      "outputs": []
    },
    {
      "cell_type": "code",
      "metadata": {
        "id": "Lu98sBOUajcI"
      },
      "source": [
        "# You can use ImageDataGenerator Approach from here onward if want."
      ],
      "execution_count": null,
      "outputs": []
    },
    {
      "cell_type": "code",
      "metadata": {
        "id": "w-szY_N4ajfi",
        "outputId": "07173a0c-6732-4857-f81b-eb925e87f2a6",
        "colab": {
          "base_uri": "https://localhost:8080/",
          "height": 34
        }
      },
      "source": [
        "#\n",
        "from keras.preprocessing import image\n",
        "from tqdm import tqdm\n",
        "\n",
        "train_image = []\n",
        "for i, classs in tqdm(enumerate(train_dataset['Labels'])):\n",
        "    img = image.load_img('/content/train/'+classs+'/'+train_dataset['Filename'][i]+'.jpg', target_size=(64,64,3), grayscale=False)\n",
        "    img = image.img_to_array(img)\n",
        "    img = img/255\n",
        "    train_image.append(img)\n",
        "X = np.array(train_image)"
      ],
      "execution_count": null,
      "outputs": [
        {
          "output_type": "stream",
          "text": [
            "750it [00:01, 611.19it/s]\n"
          ],
          "name": "stderr"
        }
      ]
    },
    {
      "cell_type": "code",
      "metadata": {
        "id": "1uKZzn6kajjT",
        "outputId": "b5470642-a423-47e9-9134-c45c41020d49",
        "colab": {
          "base_uri": "https://localhost:8080/",
          "height": 34
        }
      },
      "source": [
        "from keras.preprocessing import image\n",
        "from tqdm import tqdm\n",
        "\n",
        "test_image = []\n",
        "for i, classs in tqdm(enumerate(test_dataset['Labels'])):\n",
        "    img = image.load_img('/content/test/'+classs+'/'+test_dataset['Filename'][i]+'.jpg', target_size=(64,64,3), grayscale=False)\n",
        "    img = image.img_to_array(img)\n",
        "    img = img/255\n",
        "    test_image.append(img)\n",
        "test = np.array(test_image)"
      ],
      "execution_count": null,
      "outputs": [
        {
          "output_type": "stream",
          "text": [
            "250it [00:00, 619.79it/s]\n"
          ],
          "name": "stderr"
        }
      ]
    },
    {
      "cell_type": "code",
      "metadata": {
        "id": "3Emq-bibajl4",
        "outputId": "26cbb3ae-fbd6-4301-f112-e1d3b4be0514",
        "colab": {
          "base_uri": "https://localhost:8080/",
          "height": 34
        }
      },
      "source": [
        "X[75].shape, test[0].shape"
      ],
      "execution_count": null,
      "outputs": [
        {
          "output_type": "execute_result",
          "data": {
            "text/plain": [
              "((64, 64, 3), (64, 64, 3))"
            ]
          },
          "metadata": {
            "tags": []
          },
          "execution_count": 43
        }
      ]
    },
    {
      "cell_type": "code",
      "metadata": {
        "id": "qtAJwLnOajpM"
      },
      "source": [
        "from keras.utils import to_categorical\n",
        "\n",
        "le=LabelEncoder()\n",
        "\n",
        "train_dataset.Labels = le.fit_transform(train_dataset.Labels)\n",
        "y = train_dataset['Labels'].values\n",
        "y = to_categorical(y)\n",
        "\n",
        "test_dataset.Labels = le.fit_transform(test_dataset.Labels)\n",
        "y1 = test_dataset['Labels'].values"
      ],
      "execution_count": null,
      "outputs": []
    },
    {
      "cell_type": "code",
      "metadata": {
        "id": "9jtf44BUajsi"
      },
      "source": [
        "X_train, X_test, y_train, y_test = train_test_split(X, y, random_state=42, test_size=0.2)"
      ],
      "execution_count": null,
      "outputs": []
    },
    {
      "cell_type": "code",
      "metadata": {
        "id": "ItzgxJ-mcwtS",
        "outputId": "62dd7c73-4f0c-427e-f6df-5a962bff9b79",
        "colab": {
          "base_uri": "https://localhost:8080/",
          "height": 212
        }
      },
      "source": [
        "%tensorflow_version 2.x\n",
        "import tensorflow as tf\n",
        "device_name = tf.test.gpu_device_name()\n",
        "if device_name != '/device:GPU:0':\n",
        "  raise SystemError('GPU device not found')\n",
        "print('Found GPU at: {}'.format(device_name))"
      ],
      "execution_count": null,
      "outputs": [
        {
          "output_type": "error",
          "ename": "SystemError",
          "evalue": "ignored",
          "traceback": [
            "\u001b[0;31m---------------------------------------------------------------------------\u001b[0m",
            "\u001b[0;31mSystemError\u001b[0m                               Traceback (most recent call last)",
            "\u001b[0;32m<ipython-input-46-d1d5f2f639c4>\u001b[0m in \u001b[0;36m<module>\u001b[0;34m()\u001b[0m\n\u001b[1;32m      3\u001b[0m \u001b[0mdevice_name\u001b[0m \u001b[0;34m=\u001b[0m \u001b[0mtf\u001b[0m\u001b[0;34m.\u001b[0m\u001b[0mtest\u001b[0m\u001b[0;34m.\u001b[0m\u001b[0mgpu_device_name\u001b[0m\u001b[0;34m(\u001b[0m\u001b[0;34m)\u001b[0m\u001b[0;34m\u001b[0m\u001b[0;34m\u001b[0m\u001b[0m\n\u001b[1;32m      4\u001b[0m \u001b[0;32mif\u001b[0m \u001b[0mdevice_name\u001b[0m \u001b[0;34m!=\u001b[0m \u001b[0;34m'/device:GPU:0'\u001b[0m\u001b[0;34m:\u001b[0m\u001b[0;34m\u001b[0m\u001b[0;34m\u001b[0m\u001b[0m\n\u001b[0;32m----> 5\u001b[0;31m   \u001b[0;32mraise\u001b[0m \u001b[0mSystemError\u001b[0m\u001b[0;34m(\u001b[0m\u001b[0;34m'GPU device not found'\u001b[0m\u001b[0;34m)\u001b[0m\u001b[0;34m\u001b[0m\u001b[0;34m\u001b[0m\u001b[0m\n\u001b[0m\u001b[1;32m      6\u001b[0m \u001b[0mprint\u001b[0m\u001b[0;34m(\u001b[0m\u001b[0;34m'Found GPU at: {}'\u001b[0m\u001b[0;34m.\u001b[0m\u001b[0mformat\u001b[0m\u001b[0;34m(\u001b[0m\u001b[0mdevice_name\u001b[0m\u001b[0;34m)\u001b[0m\u001b[0;34m)\u001b[0m\u001b[0;34m\u001b[0m\u001b[0;34m\u001b[0m\u001b[0m\n",
            "\u001b[0;31mSystemError\u001b[0m: GPU device not found"
          ]
        }
      ]
    },
    {
      "cell_type": "code",
      "metadata": {
        "id": "4ljLlmwFcw3f",
        "outputId": "7f2ab337-ae0d-456e-c24c-3cbed1f1b5cf",
        "colab": {
          "base_uri": "https://localhost:8080/",
          "height": 1000
        }
      },
      "source": [
        "from tensorflow.keras.layers import Dense, Activation, Flatten, Dropout, BatchNormalization,Conv2D, MaxPooling2D\n",
        "from tensorflow.keras.models import Sequential, Model\n",
        "\n",
        "from tensorflow.keras import regularizers, optimizers\n",
        "\n",
        "\n",
        "model = Sequential()\n",
        "model.add(Conv2D(32, (3, 3), padding='same',input_shape=(64,64,3)))\n",
        "model.add(Activation('relu'))\n",
        "model.add(BatchNormalization())\n",
        "model.add(Conv2D(64, (3, 3)))\n",
        "model.add(Activation('relu'))\n",
        "model.add(BatchNormalization())\n",
        "model.add(MaxPooling2D(pool_size=(2, 2)))\n",
        "model.add(Dropout(0.25))\n",
        "model.add(Conv2D(64, (3, 3), padding='same'))\n",
        "model.add(Activation('relu'))\n",
        "model.add(BatchNormalization())\n",
        "model.add(Conv2D(64, (3, 3)))\n",
        "model.add(Activation('relu'))\n",
        "model.add(BatchNormalization())\n",
        "model.add(MaxPooling2D(pool_size=(2, 2)))\n",
        "model.add(Dropout(0.5))\n",
        "model.add(Conv2D(128, (3, 3), padding='same'))\n",
        "model.add(Activation('relu'))\n",
        "model.add(BatchNormalization())\n",
        "model.add(Conv2D(128, (3, 3)))\n",
        "model.add(Activation('relu'))\n",
        "model.add(BatchNormalization())\n",
        "model.add(MaxPooling2D(pool_size=(2, 2)))\n",
        "model.add(Dropout(0.5))\n",
        "model.add(Flatten())\n",
        "model.add(Dense(512))\n",
        "model.add(Activation('relu'))\n",
        "model.add(Dropout(0.5))\n",
        "model.add(Dense(10, activation='softmax'))\n",
        "model.compile(optimizers.RMSprop(lr=0.0005, decay=1e-6),loss=\"categorical_crossentropy\",metrics=[\"accuracy\"])\n",
        "model.summary()"
      ],
      "execution_count": null,
      "outputs": [
        {
          "output_type": "stream",
          "text": [
            "Model: \"sequential\"\n",
            "_________________________________________________________________\n",
            "Layer (type)                 Output Shape              Param #   \n",
            "=================================================================\n",
            "conv2d (Conv2D)              (None, 64, 64, 32)        896       \n",
            "_________________________________________________________________\n",
            "activation (Activation)      (None, 64, 64, 32)        0         \n",
            "_________________________________________________________________\n",
            "batch_normalization (BatchNo (None, 64, 64, 32)        128       \n",
            "_________________________________________________________________\n",
            "conv2d_1 (Conv2D)            (None, 62, 62, 64)        18496     \n",
            "_________________________________________________________________\n",
            "activation_1 (Activation)    (None, 62, 62, 64)        0         \n",
            "_________________________________________________________________\n",
            "batch_normalization_1 (Batch (None, 62, 62, 64)        256       \n",
            "_________________________________________________________________\n",
            "max_pooling2d (MaxPooling2D) (None, 31, 31, 64)        0         \n",
            "_________________________________________________________________\n",
            "dropout (Dropout)            (None, 31, 31, 64)        0         \n",
            "_________________________________________________________________\n",
            "conv2d_2 (Conv2D)            (None, 31, 31, 64)        36928     \n",
            "_________________________________________________________________\n",
            "activation_2 (Activation)    (None, 31, 31, 64)        0         \n",
            "_________________________________________________________________\n",
            "batch_normalization_2 (Batch (None, 31, 31, 64)        256       \n",
            "_________________________________________________________________\n",
            "conv2d_3 (Conv2D)            (None, 29, 29, 64)        36928     \n",
            "_________________________________________________________________\n",
            "activation_3 (Activation)    (None, 29, 29, 64)        0         \n",
            "_________________________________________________________________\n",
            "batch_normalization_3 (Batch (None, 29, 29, 64)        256       \n",
            "_________________________________________________________________\n",
            "max_pooling2d_1 (MaxPooling2 (None, 14, 14, 64)        0         \n",
            "_________________________________________________________________\n",
            "dropout_1 (Dropout)          (None, 14, 14, 64)        0         \n",
            "_________________________________________________________________\n",
            "conv2d_4 (Conv2D)            (None, 14, 14, 128)       73856     \n",
            "_________________________________________________________________\n",
            "activation_4 (Activation)    (None, 14, 14, 128)       0         \n",
            "_________________________________________________________________\n",
            "batch_normalization_4 (Batch (None, 14, 14, 128)       512       \n",
            "_________________________________________________________________\n",
            "conv2d_5 (Conv2D)            (None, 12, 12, 128)       147584    \n",
            "_________________________________________________________________\n",
            "activation_5 (Activation)    (None, 12, 12, 128)       0         \n",
            "_________________________________________________________________\n",
            "batch_normalization_5 (Batch (None, 12, 12, 128)       512       \n",
            "_________________________________________________________________\n",
            "max_pooling2d_2 (MaxPooling2 (None, 6, 6, 128)         0         \n",
            "_________________________________________________________________\n",
            "dropout_2 (Dropout)          (None, 6, 6, 128)         0         \n",
            "_________________________________________________________________\n",
            "flatten (Flatten)            (None, 4608)              0         \n",
            "_________________________________________________________________\n",
            "dense (Dense)                (None, 512)               2359808   \n",
            "_________________________________________________________________\n",
            "activation_6 (Activation)    (None, 512)               0         \n",
            "_________________________________________________________________\n",
            "dropout_3 (Dropout)          (None, 512)               0         \n",
            "_________________________________________________________________\n",
            "dense_1 (Dense)              (None, 10)                5130      \n",
            "=================================================================\n",
            "Total params: 2,681,546\n",
            "Trainable params: 2,680,586\n",
            "Non-trainable params: 960\n",
            "_________________________________________________________________\n"
          ],
          "name": "stdout"
        }
      ]
    },
    {
      "cell_type": "code",
      "metadata": {
        "id": "TIWUGTtJcw9A",
        "outputId": "b2c38a9f-cffd-4add-ea97-ea76d722d1e7",
        "colab": {
          "base_uri": "https://localhost:8080/",
          "height": 34
        }
      },
      "source": [
        "y_train.shape"
      ],
      "execution_count": null,
      "outputs": [
        {
          "output_type": "execute_result",
          "data": {
            "text/plain": [
              "(600, 10)"
            ]
          },
          "metadata": {
            "tags": []
          },
          "execution_count": 48
        }
      ]
    },
    {
      "cell_type": "code",
      "metadata": {
        "id": "jyJo-owFcxDE",
        "outputId": "a4bbcdc7-97d2-40fd-e1ac-73d29c046ec9",
        "colab": {
          "base_uri": "https://localhost:8080/",
          "height": 1000
        }
      },
      "source": [
        "import tensorflow\n",
        "h = model.fit(X_train, y_train, epochs=100,\n",
        "          validation_data=(X_test,y_test),\n",
        "          callbacks=[tensorflow.keras.callbacks.EarlyStopping(monitor='val_accuracy', patience=90),\n",
        "                     tensorflow.keras.callbacks.ModelCheckpoint('/content/sample_data/modelmusic_{val_accuracy:.4f}.h5')]\n",
        ")"
      ],
      "execution_count": null,
      "outputs": [
        {
          "output_type": "stream",
          "text": [
            "Epoch 1/100\n",
            "19/19 [==============================] - 20s 1s/step - loss: 5.7422 - accuracy: 0.1783 - val_loss: 2.3513 - val_accuracy: 0.1600\n",
            "Epoch 2/100\n",
            "19/19 [==============================] - 19s 975ms/step - loss: 2.5763 - accuracy: 0.3017 - val_loss: 2.5169 - val_accuracy: 0.0600\n",
            "Epoch 3/100\n",
            "19/19 [==============================] - 19s 979ms/step - loss: 2.2091 - accuracy: 0.3100 - val_loss: 2.9271 - val_accuracy: 0.0600\n",
            "Epoch 4/100\n",
            "19/19 [==============================] - 19s 977ms/step - loss: 2.0237 - accuracy: 0.3483 - val_loss: 3.4802 - val_accuracy: 0.0600\n",
            "Epoch 5/100\n",
            "19/19 [==============================] - 18s 973ms/step - loss: 1.8322 - accuracy: 0.3917 - val_loss: 4.1819 - val_accuracy: 0.0600\n",
            "Epoch 6/100\n",
            "19/19 [==============================] - 19s 974ms/step - loss: 1.7322 - accuracy: 0.4300 - val_loss: 4.7639 - val_accuracy: 0.1200\n",
            "Epoch 7/100\n",
            "19/19 [==============================] - 18s 970ms/step - loss: 1.6490 - accuracy: 0.4467 - val_loss: 5.6600 - val_accuracy: 0.1333\n",
            "Epoch 8/100\n",
            "19/19 [==============================] - 19s 974ms/step - loss: 1.6216 - accuracy: 0.4633 - val_loss: 5.9061 - val_accuracy: 0.1067\n",
            "Epoch 9/100\n",
            "19/19 [==============================] - 19s 982ms/step - loss: 1.5717 - accuracy: 0.4800 - val_loss: 6.6254 - val_accuracy: 0.1733\n",
            "Epoch 10/100\n",
            "19/19 [==============================] - 19s 975ms/step - loss: 1.4674 - accuracy: 0.4950 - val_loss: 7.5251 - val_accuracy: 0.1000\n",
            "Epoch 11/100\n",
            "19/19 [==============================] - 19s 974ms/step - loss: 1.4070 - accuracy: 0.5400 - val_loss: 8.7624 - val_accuracy: 0.1000\n",
            "Epoch 12/100\n",
            "19/19 [==============================] - 18s 973ms/step - loss: 1.2584 - accuracy: 0.5183 - val_loss: 9.0817 - val_accuracy: 0.1000\n",
            "Epoch 13/100\n",
            "19/19 [==============================] - 19s 997ms/step - loss: 1.3580 - accuracy: 0.5517 - val_loss: 11.4467 - val_accuracy: 0.1000\n",
            "Epoch 14/100\n",
            "19/19 [==============================] - 18s 973ms/step - loss: 1.2481 - accuracy: 0.5917 - val_loss: 10.3787 - val_accuracy: 0.1000\n",
            "Epoch 15/100\n",
            "19/19 [==============================] - 18s 972ms/step - loss: 1.1811 - accuracy: 0.5883 - val_loss: 11.1797 - val_accuracy: 0.1000\n",
            "Epoch 16/100\n",
            "19/19 [==============================] - 19s 981ms/step - loss: 1.1261 - accuracy: 0.6333 - val_loss: 8.0874 - val_accuracy: 0.1000\n",
            "Epoch 17/100\n",
            "19/19 [==============================] - 18s 973ms/step - loss: 1.0786 - accuracy: 0.6417 - val_loss: 13.0348 - val_accuracy: 0.1000\n",
            "Epoch 18/100\n",
            "19/19 [==============================] - 18s 974ms/step - loss: 1.0620 - accuracy: 0.6733 - val_loss: 8.2270 - val_accuracy: 0.1600\n",
            "Epoch 19/100\n",
            "19/19 [==============================] - 18s 971ms/step - loss: 0.9252 - accuracy: 0.6967 - val_loss: 9.0607 - val_accuracy: 0.1600\n",
            "Epoch 20/100\n",
            "19/19 [==============================] - 18s 971ms/step - loss: 0.9648 - accuracy: 0.7100 - val_loss: 5.9258 - val_accuracy: 0.2600\n",
            "Epoch 21/100\n",
            "19/19 [==============================] - 18s 973ms/step - loss: 0.8063 - accuracy: 0.7150 - val_loss: 9.8420 - val_accuracy: 0.1667\n",
            "Epoch 22/100\n",
            "19/19 [==============================] - 19s 976ms/step - loss: 0.8394 - accuracy: 0.7150 - val_loss: 8.2454 - val_accuracy: 0.2400\n",
            "Epoch 23/100\n",
            "19/19 [==============================] - 19s 975ms/step - loss: 0.8301 - accuracy: 0.7267 - val_loss: 7.4731 - val_accuracy: 0.1733\n",
            "Epoch 24/100\n",
            "19/19 [==============================] - 19s 981ms/step - loss: 0.7456 - accuracy: 0.7500 - val_loss: 5.8414 - val_accuracy: 0.1667\n",
            "Epoch 25/100\n",
            "19/19 [==============================] - 19s 975ms/step - loss: 0.6845 - accuracy: 0.7733 - val_loss: 7.5009 - val_accuracy: 0.2000\n",
            "Epoch 26/100\n",
            "19/19 [==============================] - 19s 974ms/step - loss: 0.5830 - accuracy: 0.8133 - val_loss: 5.4740 - val_accuracy: 0.2133\n",
            "Epoch 27/100\n",
            "19/19 [==============================] - 18s 969ms/step - loss: 0.6041 - accuracy: 0.8067 - val_loss: 7.3117 - val_accuracy: 0.2600\n",
            "Epoch 28/100\n",
            "19/19 [==============================] - 19s 976ms/step - loss: 0.5252 - accuracy: 0.8250 - val_loss: 3.6234 - val_accuracy: 0.3533\n",
            "Epoch 29/100\n",
            "19/19 [==============================] - 18s 973ms/step - loss: 0.5486 - accuracy: 0.8483 - val_loss: 3.3140 - val_accuracy: 0.3933\n",
            "Epoch 30/100\n",
            "19/19 [==============================] - 19s 978ms/step - loss: 0.4996 - accuracy: 0.8250 - val_loss: 3.9360 - val_accuracy: 0.4067\n",
            "Epoch 31/100\n",
            "19/19 [==============================] - 19s 1s/step - loss: 0.4458 - accuracy: 0.8567 - val_loss: 4.8715 - val_accuracy: 0.3467\n",
            "Epoch 32/100\n",
            "19/19 [==============================] - 20s 1s/step - loss: 0.4447 - accuracy: 0.8567 - val_loss: 2.9185 - val_accuracy: 0.4867\n",
            "Epoch 33/100\n",
            "19/19 [==============================] - 18s 971ms/step - loss: 0.4974 - accuracy: 0.8533 - val_loss: 1.5145 - val_accuracy: 0.6133\n",
            "Epoch 34/100\n",
            "19/19 [==============================] - 18s 972ms/step - loss: 0.4328 - accuracy: 0.8600 - val_loss: 1.9143 - val_accuracy: 0.5467\n",
            "Epoch 35/100\n",
            "19/19 [==============================] - 19s 975ms/step - loss: 0.3729 - accuracy: 0.8800 - val_loss: 2.5753 - val_accuracy: 0.4733\n",
            "Epoch 36/100\n",
            "19/19 [==============================] - 19s 977ms/step - loss: 0.3719 - accuracy: 0.8817 - val_loss: 2.0991 - val_accuracy: 0.5600\n",
            "Epoch 37/100\n",
            "19/19 [==============================] - 18s 973ms/step - loss: 0.3080 - accuracy: 0.9033 - val_loss: 3.1150 - val_accuracy: 0.4533\n",
            "Epoch 38/100\n",
            "19/19 [==============================] - 18s 970ms/step - loss: 0.2879 - accuracy: 0.9000 - val_loss: 2.7810 - val_accuracy: 0.4867\n",
            "Epoch 39/100\n",
            "19/19 [==============================] - 18s 968ms/step - loss: 0.2493 - accuracy: 0.9200 - val_loss: 3.2596 - val_accuracy: 0.5000\n",
            "Epoch 40/100\n",
            "19/19 [==============================] - 19s 979ms/step - loss: 0.2280 - accuracy: 0.9167 - val_loss: 5.3583 - val_accuracy: 0.3933\n",
            "Epoch 41/100\n",
            "19/19 [==============================] - 18s 973ms/step - loss: 0.2790 - accuracy: 0.9267 - val_loss: 3.2104 - val_accuracy: 0.5533\n",
            "Epoch 42/100\n",
            "19/19 [==============================] - 18s 971ms/step - loss: 0.2855 - accuracy: 0.9233 - val_loss: 2.1245 - val_accuracy: 0.5800\n",
            "Epoch 43/100\n",
            "19/19 [==============================] - 19s 976ms/step - loss: 0.2187 - accuracy: 0.9350 - val_loss: 5.2683 - val_accuracy: 0.3867\n",
            "Epoch 44/100\n",
            "19/19 [==============================] - 18s 972ms/step - loss: 0.2315 - accuracy: 0.9067 - val_loss: 3.2137 - val_accuracy: 0.4867\n",
            "Epoch 45/100\n",
            "19/19 [==============================] - 18s 971ms/step - loss: 0.2602 - accuracy: 0.9167 - val_loss: 2.4122 - val_accuracy: 0.5667\n",
            "Epoch 46/100\n",
            "19/19 [==============================] - 18s 971ms/step - loss: 0.2751 - accuracy: 0.9117 - val_loss: 3.5789 - val_accuracy: 0.4933\n",
            "Epoch 47/100\n",
            "19/19 [==============================] - 19s 978ms/step - loss: 0.2824 - accuracy: 0.9183 - val_loss: 3.2207 - val_accuracy: 0.5133\n",
            "Epoch 48/100\n",
            "19/19 [==============================] - 19s 979ms/step - loss: 0.2345 - accuracy: 0.9150 - val_loss: 2.5891 - val_accuracy: 0.5200\n",
            "Epoch 49/100\n",
            "19/19 [==============================] - 18s 973ms/step - loss: 0.1917 - accuracy: 0.9350 - val_loss: 1.9955 - val_accuracy: 0.6067\n",
            "Epoch 50/100\n",
            "19/19 [==============================] - 18s 968ms/step - loss: 0.1480 - accuracy: 0.9517 - val_loss: 1.8912 - val_accuracy: 0.6133\n",
            "Epoch 51/100\n",
            "19/19 [==============================] - 18s 973ms/step - loss: 0.2306 - accuracy: 0.9317 - val_loss: 2.6449 - val_accuracy: 0.5400\n",
            "Epoch 52/100\n",
            "19/19 [==============================] - 18s 973ms/step - loss: 0.1535 - accuracy: 0.9450 - val_loss: 2.8130 - val_accuracy: 0.5800\n",
            "Epoch 53/100\n",
            "19/19 [==============================] - 19s 976ms/step - loss: 0.1869 - accuracy: 0.9400 - val_loss: 2.2723 - val_accuracy: 0.6400\n",
            "Epoch 54/100\n",
            "19/19 [==============================] - 18s 973ms/step - loss: 0.1041 - accuracy: 0.9717 - val_loss: 2.1857 - val_accuracy: 0.6333\n",
            "Epoch 55/100\n",
            "19/19 [==============================] - 19s 974ms/step - loss: 0.1700 - accuracy: 0.9417 - val_loss: 6.5624 - val_accuracy: 0.4467\n",
            "Epoch 56/100\n",
            "19/19 [==============================] - 19s 977ms/step - loss: 0.2359 - accuracy: 0.9467 - val_loss: 2.9277 - val_accuracy: 0.5667\n",
            "Epoch 57/100\n",
            "19/19 [==============================] - 18s 968ms/step - loss: 0.1969 - accuracy: 0.9500 - val_loss: 4.2239 - val_accuracy: 0.5000\n",
            "Epoch 58/100\n",
            "19/19 [==============================] - 18s 972ms/step - loss: 0.1276 - accuracy: 0.9550 - val_loss: 3.7161 - val_accuracy: 0.4933\n",
            "Epoch 59/100\n",
            "19/19 [==============================] - 18s 972ms/step - loss: 0.1188 - accuracy: 0.9633 - val_loss: 2.7640 - val_accuracy: 0.6200\n",
            "Epoch 60/100\n",
            "19/19 [==============================] - 19s 984ms/step - loss: 0.1202 - accuracy: 0.9633 - val_loss: 3.1821 - val_accuracy: 0.6200\n",
            "Epoch 61/100\n",
            "19/19 [==============================] - 18s 968ms/step - loss: 0.0945 - accuracy: 0.9683 - val_loss: 2.9934 - val_accuracy: 0.6067\n",
            "Epoch 62/100\n",
            "19/19 [==============================] - 18s 973ms/step - loss: 0.1311 - accuracy: 0.9650 - val_loss: 4.4998 - val_accuracy: 0.5267\n",
            "Epoch 63/100\n",
            "19/19 [==============================] - 20s 1s/step - loss: 0.1079 - accuracy: 0.9667 - val_loss: 3.5896 - val_accuracy: 0.5800\n",
            "Epoch 64/100\n",
            "19/19 [==============================] - 19s 978ms/step - loss: 0.1255 - accuracy: 0.9583 - val_loss: 5.5547 - val_accuracy: 0.4600\n",
            "Epoch 65/100\n",
            "19/19 [==============================] - 18s 969ms/step - loss: 0.1432 - accuracy: 0.9567 - val_loss: 3.1345 - val_accuracy: 0.6267\n",
            "Epoch 66/100\n",
            "19/19 [==============================] - 18s 966ms/step - loss: 0.1260 - accuracy: 0.9700 - val_loss: 4.0644 - val_accuracy: 0.5667\n",
            "Epoch 67/100\n",
            "19/19 [==============================] - 18s 973ms/step - loss: 0.1310 - accuracy: 0.9717 - val_loss: 3.4129 - val_accuracy: 0.6267\n",
            "Epoch 68/100\n",
            "19/19 [==============================] - 18s 971ms/step - loss: 0.1487 - accuracy: 0.9667 - val_loss: 4.1868 - val_accuracy: 0.5667\n",
            "Epoch 69/100\n",
            "19/19 [==============================] - 18s 964ms/step - loss: 0.1005 - accuracy: 0.9717 - val_loss: 7.3684 - val_accuracy: 0.5067\n",
            "Epoch 70/100\n",
            "19/19 [==============================] - 18s 966ms/step - loss: 0.1185 - accuracy: 0.9633 - val_loss: 3.0371 - val_accuracy: 0.6200\n",
            "Epoch 71/100\n",
            "19/19 [==============================] - 18s 971ms/step - loss: 0.1385 - accuracy: 0.9717 - val_loss: 3.1637 - val_accuracy: 0.6133\n",
            "Epoch 72/100\n",
            "19/19 [==============================] - 18s 967ms/step - loss: 0.0709 - accuracy: 0.9800 - val_loss: 2.5648 - val_accuracy: 0.6467\n",
            "Epoch 73/100\n",
            "19/19 [==============================] - 18s 968ms/step - loss: 0.1716 - accuracy: 0.9500 - val_loss: 2.3085 - val_accuracy: 0.6667\n",
            "Epoch 74/100\n",
            "19/19 [==============================] - 18s 969ms/step - loss: 0.0490 - accuracy: 0.9867 - val_loss: 3.0003 - val_accuracy: 0.5333\n",
            "Epoch 75/100\n",
            "19/19 [==============================] - 18s 966ms/step - loss: 0.1325 - accuracy: 0.9700 - val_loss: 3.6029 - val_accuracy: 0.5200\n",
            "Epoch 76/100\n",
            "19/19 [==============================] - 18s 969ms/step - loss: 0.1213 - accuracy: 0.9650 - val_loss: 4.3555 - val_accuracy: 0.4533\n",
            "Epoch 77/100\n",
            "19/19 [==============================] - 18s 968ms/step - loss: 0.1768 - accuracy: 0.9617 - val_loss: 3.0512 - val_accuracy: 0.5533\n",
            "Epoch 78/100\n",
            "19/19 [==============================] - 18s 968ms/step - loss: 0.0713 - accuracy: 0.9767 - val_loss: 2.0312 - val_accuracy: 0.6933\n",
            "Epoch 79/100\n",
            "19/19 [==============================] - 18s 972ms/step - loss: 0.0796 - accuracy: 0.9750 - val_loss: 2.7780 - val_accuracy: 0.6667\n",
            "Epoch 80/100\n",
            "19/19 [==============================] - 18s 970ms/step - loss: 0.0653 - accuracy: 0.9767 - val_loss: 4.0170 - val_accuracy: 0.6067\n",
            "Epoch 81/100\n",
            "19/19 [==============================] - 18s 963ms/step - loss: 0.1218 - accuracy: 0.9750 - val_loss: 3.3765 - val_accuracy: 0.6000\n",
            "Epoch 82/100\n",
            "19/19 [==============================] - 18s 965ms/step - loss: 0.1166 - accuracy: 0.9700 - val_loss: 2.6472 - val_accuracy: 0.6067\n",
            "Epoch 83/100\n",
            "19/19 [==============================] - 18s 966ms/step - loss: 0.0783 - accuracy: 0.9800 - val_loss: 2.6884 - val_accuracy: 0.6933\n",
            "Epoch 84/100\n",
            "19/19 [==============================] - 18s 968ms/step - loss: 0.0859 - accuracy: 0.9767 - val_loss: 4.1595 - val_accuracy: 0.6067\n",
            "Epoch 85/100\n",
            "19/19 [==============================] - 18s 966ms/step - loss: 0.0578 - accuracy: 0.9833 - val_loss: 3.1382 - val_accuracy: 0.6533\n",
            "Epoch 86/100\n",
            "19/19 [==============================] - 18s 965ms/step - loss: 0.0416 - accuracy: 0.9850 - val_loss: 3.0794 - val_accuracy: 0.6533\n",
            "Epoch 87/100\n",
            "19/19 [==============================] - 18s 968ms/step - loss: 0.1714 - accuracy: 0.9567 - val_loss: 6.4044 - val_accuracy: 0.4800\n",
            "Epoch 88/100\n",
            "19/19 [==============================] - 18s 965ms/step - loss: 0.1003 - accuracy: 0.9783 - val_loss: 2.8018 - val_accuracy: 0.6800\n",
            "Epoch 89/100\n",
            "19/19 [==============================] - 18s 970ms/step - loss: 0.0534 - accuracy: 0.9817 - val_loss: 3.4451 - val_accuracy: 0.5733\n",
            "Epoch 90/100\n",
            "19/19 [==============================] - 18s 969ms/step - loss: 0.0837 - accuracy: 0.9850 - val_loss: 3.7762 - val_accuracy: 0.5867\n",
            "Epoch 91/100\n",
            "19/19 [==============================] - 19s 974ms/step - loss: 0.0609 - accuracy: 0.9817 - val_loss: 3.4249 - val_accuracy: 0.6000\n",
            "Epoch 92/100\n",
            "19/19 [==============================] - 18s 969ms/step - loss: 0.0623 - accuracy: 0.9833 - val_loss: 3.2049 - val_accuracy: 0.6333\n",
            "Epoch 93/100\n",
            "19/19 [==============================] - 18s 972ms/step - loss: 0.0648 - accuracy: 0.9783 - val_loss: 3.5549 - val_accuracy: 0.5933\n",
            "Epoch 94/100\n",
            "19/19 [==============================] - 20s 1s/step - loss: 0.0477 - accuracy: 0.9850 - val_loss: 5.0481 - val_accuracy: 0.5133\n",
            "Epoch 95/100\n",
            "19/19 [==============================] - 19s 977ms/step - loss: 0.0956 - accuracy: 0.9700 - val_loss: 4.4922 - val_accuracy: 0.5267\n",
            "Epoch 96/100\n",
            "19/19 [==============================] - 18s 974ms/step - loss: 0.1191 - accuracy: 0.9667 - val_loss: 2.9279 - val_accuracy: 0.6400\n",
            "Epoch 97/100\n",
            "19/19 [==============================] - 18s 973ms/step - loss: 0.0389 - accuracy: 0.9833 - val_loss: 3.0802 - val_accuracy: 0.6400\n",
            "Epoch 98/100\n",
            "19/19 [==============================] - 18s 969ms/step - loss: 0.0924 - accuracy: 0.9817 - val_loss: 5.4137 - val_accuracy: 0.5600\n",
            "Epoch 99/100\n",
            "19/19 [==============================] - 18s 965ms/step - loss: 0.0598 - accuracy: 0.9833 - val_loss: 5.5762 - val_accuracy: 0.4467\n",
            "Epoch 100/100\n",
            "19/19 [==============================] - 18s 965ms/step - loss: 0.1291 - accuracy: 0.9717 - val_loss: 5.3412 - val_accuracy: 0.6267\n"
          ],
          "name": "stdout"
        }
      ]
    },
    {
      "cell_type": "code",
      "metadata": {
        "id": "kesBYrtRcxHW",
        "outputId": "ce1f1f50-482d-4606-bfab-b91abe38478b",
        "colab": {
          "base_uri": "https://localhost:8080/",
          "height": 265
        }
      },
      "source": [
        "losses = h.history['loss']\n",
        "accs = h.history['accuracy']\n",
        "val_losses = h.history['val_loss']\n",
        "val_accs = h.history['val_accuracy']\n",
        "epochs = len(losses)\n",
        "\n",
        "plt.figure(figsize=(12, 4))\n",
        "for i, metrics in enumerate(zip([losses, accs], [val_losses, val_accs], ['Loss', 'Accuracy'])):\n",
        "    plt.subplot(1, 2, i + 1)\n",
        "    plt.plot(range(epochs), metrics[0], label='Training {}'.format(metrics[2]))\n",
        "    plt.plot(range(epochs), metrics[1], label='Validation {}'.format(metrics[2]))\n",
        "    plt.legend()\n",
        "plt.show()"
      ],
      "execution_count": null,
      "outputs": [
        {
          "output_type": "display_data",
          "data": {
            "image/png": "[encoded data removed]",
            "text/plain": [
              "<Figure size 864x288 with 2 Axes>"
            ]
          },
          "metadata": {
            "tags": [],
            "needs_background": "light"
          }
        }
      ]
    },
    {
      "cell_type": "code",
      "metadata": {
        "id": "HeSwNqFdcxKv"
      },
      "source": [
        "import tensorflow as tf\n",
        "model = tf.keras.models.load_model('/content/sample_data/modelmusic_0.6933.h5')"
      ],
      "execution_count": null,
      "outputs": []
    },
    {
      "cell_type": "code",
      "metadata": {
        "id": "-4njKPj6dXnA"
      },
      "source": [
        "prediction = model.predict_classes(X_test)"
      ],
      "execution_count": null,
      "outputs": []
    },
    {
      "cell_type": "code",
      "metadata": {
        "id": "pUDinujAdXp6"
      },
      "source": [
        "predictions = list(prediction)"
      ],
      "execution_count": null,
      "outputs": []
    },
    {
      "cell_type": "code",
      "metadata": {
        "id": "64KBcRNidXtd",
        "outputId": "d1ddb27e-12d4-420c-d077-3cdb3d10b175",
        "colab": {
          "base_uri": "https://localhost:8080/",
          "height": 134
        }
      },
      "source": [
        "index = tf.math.argmax(y_test, axis=1)\n",
        "c = tf.keras.backend.eval(index)\n",
        "c"
      ],
      "execution_count": null,
      "outputs": [
        {
          "output_type": "execute_result",
          "data": {
            "text/plain": [
              "array([6, 4, 1, 3, 3, 9, 4, 2, 7, 9, 1, 4, 3, 9, 2, 3, 0, 3, 4, 7, 6, 6,\n",
              "       5, 4, 0, 9, 3, 4, 2, 2, 4, 6, 6, 4, 4, 1, 2, 5, 1, 5, 1, 9, 0, 1,\n",
              "       9, 7, 7, 6, 5, 5, 0, 6, 4, 4, 6, 1, 7, 1, 6, 0, 3, 2, 9, 9, 3, 3,\n",
              "       3, 0, 5, 8, 5, 5, 3, 8, 9, 5, 6, 0, 2, 4, 3, 0, 8, 7, 0, 4, 9, 6,\n",
              "       8, 0, 7, 0, 8, 9, 1, 4, 6, 3, 1, 2, 1, 9, 0, 9, 2, 0, 8, 9, 5, 2,\n",
              "       8, 6, 2, 7, 5, 8, 8, 4, 9, 1, 5, 1, 8, 4, 8, 2, 0, 7, 3, 8, 3, 0,\n",
              "       2, 4, 6, 4, 2, 4, 0, 9, 5, 2, 8, 5, 1, 6, 1, 5, 9, 0])"
            ]
          },
          "metadata": {
            "tags": []
          },
          "execution_count": 57
        }
      ]
    },
    {
      "cell_type": "code",
      "metadata": {
        "id": "E2OYTclRdXwU",
        "outputId": "5fbb45dc-d870-49e2-cb42-94f790dc0ebb",
        "colab": {
          "base_uri": "https://localhost:8080/",
          "height": 353
        }
      },
      "source": [
        "#Number of per-labels in y_test and predicitions\n",
        "d=list(c)\n",
        "for i in range(10):\n",
        "  print('Count of',[i], 'in test data is:','     ',d.count(i))\n",
        "  print('Count of',[i], 'in prediction data is:',predictions.count(i))"
      ],
      "execution_count": null,
      "outputs": [
        {
          "output_type": "stream",
          "text": [
            "Count of [0] in test data is:       17\n",
            "Count of [0] in prediction data is: 18\n",
            "Count of [1] in test data is:       15\n",
            "Count of [1] in prediction data is: 16\n",
            "Count of [2] in test data is:       15\n",
            "Count of [2] in prediction data is: 14\n",
            "Count of [3] in test data is:       15\n",
            "Count of [3] in prediction data is: 12\n",
            "Count of [4] in test data is:       19\n",
            "Count of [4] in prediction data is: 22\n",
            "Count of [5] in test data is:       15\n",
            "Count of [5] in prediction data is: 16\n",
            "Count of [6] in test data is:       15\n",
            "Count of [6] in prediction data is: 15\n",
            "Count of [7] in test data is:       9\n",
            "Count of [7] in prediction data is: 10\n",
            "Count of [8] in test data is:       13\n",
            "Count of [8] in prediction data is: 20\n",
            "Count of [9] in test data is:       17\n",
            "Count of [9] in prediction data is: 7\n"
          ],
          "name": "stdout"
        }
      ]
    },
    {
      "cell_type": "code",
      "metadata": {
        "id": "AtEzk_fVdXzc",
        "outputId": "85ced512-5786-44a0-d3b1-5b2a6aa749ad",
        "colab": {
          "base_uri": "https://localhost:8080/",
          "height": 487
        }
      },
      "source": [
        "from sklearn.metrics import accuracy_score, classification_report, confusion_matrix\n",
        "\n",
        "print(confusion_matrix(c, prediction))\n",
        "print(classification_report(c, prediction))\n",
        "print(accuracy_score(c, prediction))"
      ],
      "execution_count": null,
      "outputs": [
        {
          "output_type": "stream",
          "text": [
            "[[14  0  0  0  1  1  0  0  1  0]\n",
            " [ 0 15  0  0  0  0  0  0  0  0]\n",
            " [ 0  0  9  2  0  1  0  0  1  2]\n",
            " [ 0  0  0  7  2  0  0  3  2  1]\n",
            " [ 1  0  0  1 13  0  0  0  4  0]\n",
            " [ 0  1  1  0  0 13  0  0  0  0]\n",
            " [ 0  0  0  0  0  0 15  0  0  0]\n",
            " [ 0  0  1  0  1  0  0  6  1  0]\n",
            " [ 0  0  1  1  2  0  0  1  8  0]\n",
            " [ 3  0  2  1  3  1  0  0  3  4]]\n",
            "              precision    recall  f1-score   support\n",
            "\n",
            "           0       0.78      0.82      0.80        17\n",
            "           1       0.94      1.00      0.97        15\n",
            "           2       0.64      0.60      0.62        15\n",
            "           3       0.58      0.47      0.52        15\n",
            "           4       0.59      0.68      0.63        19\n",
            "           5       0.81      0.87      0.84        15\n",
            "           6       1.00      1.00      1.00        15\n",
            "           7       0.60      0.67      0.63         9\n",
            "           8       0.40      0.62      0.48        13\n",
            "           9       0.57      0.24      0.33        17\n",
            "\n",
            "    accuracy                           0.69       150\n",
            "   macro avg       0.69      0.70      0.68       150\n",
            "weighted avg       0.70      0.69      0.68       150\n",
            "\n",
            "0.6933333333333334\n"
          ],
          "name": "stdout"
        }
      ]
    },
    {
      "cell_type": "code",
      "metadata": {
        "id": "GRPLoYG-dX2j"
      },
      "source": [
        ""
      ],
      "execution_count": null,
      "outputs": []
    },
    {
      "cell_type": "code",
      "metadata": {
        "id": "2DlQnI7IdX6K"
      },
      "source": [
        ""
      ],
      "execution_count": null,
      "outputs": []
    }
  ]
}